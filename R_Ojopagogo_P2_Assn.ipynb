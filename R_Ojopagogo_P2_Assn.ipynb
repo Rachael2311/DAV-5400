{
 "cells": [
  {
   "cell_type": "markdown",
   "id": "71922917",
   "metadata": {},
   "source": [
    "<Center><h1>DAV 5400 Project 2 (M9) (100 Points)</h1></Center>\n",
    "<Center><h1>Working with HTML, JSON, Web Scraping, and Web APIs</h1></Center>\n",
    "<Center><h2>Team members: Ojopagogo Rachael, Abdulla Mamum, Bitterlein Konnoth Biju</h2><Center>"
   ]
  },
  {
   "cell_type": "markdown",
   "id": "47551f2a",
   "metadata": {},
   "source": [
    "## Importing the neccessary libraries needed for the project"
   ]
  },
  {
   "cell_type": "code",
   "execution_count": 66,
   "id": "ce5f1f18",
   "metadata": {},
   "outputs": [],
   "source": [
    "import pandas as pd\n",
    "import re\n",
    "import requests\n",
    "from bs4 import BeautifulSoup\n",
    "import requests\n",
    "import matplotlib.pyplot as plt\n",
    "import seaborn as sns\n",
    "import warnings"
   ]
  },
  {
   "cell_type": "markdown",
   "id": "86205d83",
   "metadata": {},
   "source": [
    "QUestion 1: (30 points): Working with HTML and JSON\n",
    "Pick three albums/CD’s from three different musical artists. For each album/CD, include the album title, the name of the musical artist, a list of at least five of the songs/tracks that appear on the album/CD, and the year in which the album/CD was released. Take the information that you’ve selected about these three albums, and create two files using a text editor: one of which stores the albums’ information in HTML (using an html table) and the other of which stores the albums’ information in JSON format (e.g. “albums.html” and “albums.json”). Post the two files to your GitHub repository, and load them into your Jupyter Notebook from your online repository. Then, write Python code, using your packages of choice, to load the information from each of the two files you’ve created into separate PANDAS data frames. Are the two data frames identical?\n",
    "Your deliverable for Part I of this Project is the two files you’ve created and your Python code. Post the two source files to your GitHub repository and package your Python code within a Jupyter notebook (along with your code for Parts II and III below)."
   ]
  },
  {
   "cell_type": "markdown",
   "id": "0c1a1c3f",
   "metadata": {},
   "source": [
    "We used a simple text editor Notepad to create HTML and JSON files. These files were then uploaded to our GitHub repository. Finally, we imported the files into Jupyter Notebook for further processing and analysis."
   ]
  },
  {
   "cell_type": "code",
   "execution_count": 5,
   "id": "8229afbb",
   "metadata": {
    "scrolled": false
   },
   "outputs": [
    {
     "name": "stdout",
     "output_type": "stream",
     "text": [
      "         Album     Artist  Year  \\\n",
      "0     Timeless     Davido  2023   \n",
      "1  I told them  Burna Boy  2023   \n",
      "2    Take care      Drake  2011   \n",
      "\n",
      "                                               Track  \n",
      "0  Bop, Picasso, In the garden, E pain me, God fa...  \n",
      "1  12 Jewel, I told them, Thanks, Cheat on me, Gi...  \n",
      "2  Crew love, The motto, Lord knows, Take care, M...  \n"
     ]
    }
   ],
   "source": [
    "# Load the HTML file\n",
    "html_file = pd.read_html('https://raw.githubusercontent.com/Rachael2311/DAV-5400/main/album.html')[0]\n",
    "print(html_file)"
   ]
  },
  {
   "cell_type": "markdown",
   "id": "ace95f2b",
   "metadata": {},
   "source": [
    "To extract data from the HTML file"
   ]
  },
  {
   "cell_type": "code",
   "execution_count": 9,
   "id": "2b2f219b",
   "metadata": {},
   "outputs": [
    {
     "data": {
      "text/html": [
       "<div>\n",
       "<style scoped>\n",
       "    .dataframe tbody tr th:only-of-type {\n",
       "        vertical-align: middle;\n",
       "    }\n",
       "\n",
       "    .dataframe tbody tr th {\n",
       "        vertical-align: top;\n",
       "    }\n",
       "\n",
       "    .dataframe thead th {\n",
       "        text-align: right;\n",
       "    }\n",
       "</style>\n",
       "<table border=\"1\" class=\"dataframe\">\n",
       "  <thead>\n",
       "    <tr style=\"text-align: right;\">\n",
       "      <th></th>\n",
       "      <th>Album</th>\n",
       "      <th>Artist</th>\n",
       "      <th>Year</th>\n",
       "      <th>Track</th>\n",
       "    </tr>\n",
       "  </thead>\n",
       "  <tbody>\n",
       "    <tr>\n",
       "      <th>0</th>\n",
       "      <td>Timeless</td>\n",
       "      <td>Davido</td>\n",
       "      <td>2023</td>\n",
       "      <td>Bop, Picasso, In the garden, E pain me, God fa...</td>\n",
       "    </tr>\n",
       "    <tr>\n",
       "      <th>1</th>\n",
       "      <td>I told them</td>\n",
       "      <td>Burna Boy</td>\n",
       "      <td>2023</td>\n",
       "      <td>12 Jewel, I told them, Thanks, Cheat on me, Gi...</td>\n",
       "    </tr>\n",
       "    <tr>\n",
       "      <th>2</th>\n",
       "      <td>Take care</td>\n",
       "      <td>Drake</td>\n",
       "      <td>2011</td>\n",
       "      <td>Crew love, The motto, Lord knows, Take care, M...</td>\n",
       "    </tr>\n",
       "  </tbody>\n",
       "</table>\n",
       "</div>"
      ],
      "text/plain": [
       "         Album     Artist  Year  \\\n",
       "0     Timeless     Davido  2023   \n",
       "1  I told them  Burna Boy  2023   \n",
       "2    Take care      Drake  2011   \n",
       "\n",
       "                                               Track  \n",
       "0  Bop, Picasso, In the garden, E pain me, God fa...  \n",
       "1  12 Jewel, I told them, Thanks, Cheat on me, Gi...  \n",
       "2  Crew love, The motto, Lord knows, Take care, M...  "
      ]
     },
     "execution_count": 9,
     "metadata": {},
     "output_type": "execute_result"
    }
   ],
   "source": [
    "html_file.head()"
   ]
  },
  {
   "cell_type": "code",
   "execution_count": 11,
   "id": "93f85f63",
   "metadata": {},
   "outputs": [
    {
     "data": {
      "text/plain": [
       "0       Davido\n",
       "1    Burna Boy\n",
       "2        Drake\n",
       "Name: Artist, dtype: object"
      ]
     },
     "execution_count": 11,
     "metadata": {},
     "output_type": "execute_result"
    }
   ],
   "source": [
    "# view the artist name of album\n",
    "html_file.Artist"
   ]
  },
  {
   "cell_type": "code",
   "execution_count": 13,
   "id": "43d5971f",
   "metadata": {},
   "outputs": [
    {
     "data": {
      "text/plain": [
       "0    Bop, Picasso, In the garden, E pain me, God fa...\n",
       "1    12 Jewel, I told them, Thanks, Cheat on me, Gi...\n",
       "2    Crew love, The motto, Lord knows, Take care, M...\n",
       "Name: Track, dtype: object"
      ]
     },
     "execution_count": 13,
     "metadata": {},
     "output_type": "execute_result"
    }
   ],
   "source": [
    "# view the tracks in the album\n",
    "html_file.Track"
   ]
  },
  {
   "cell_type": "markdown",
   "id": "26c3e179",
   "metadata": {},
   "source": [
    "Import the JSON file into Jupyter Notebook"
   ]
  },
  {
   "cell_type": "code",
   "execution_count": null,
   "id": "79977cff",
   "metadata": {},
   "outputs": [],
   "source": [
    "# Load the JSON file\n",
    "json_file = pd.read_json('https://raw.githubusercontent.com/Rachael2311/DAV-5400/main/album.json')\n",
    "print(json_file)"
   ]
  },
  {
   "cell_type": "code",
   "execution_count": 14,
   "id": "84bb3bdf",
   "metadata": {},
   "outputs": [
    {
     "data": {
      "text/html": [
       "<div>\n",
       "<style scoped>\n",
       "    .dataframe tbody tr th:only-of-type {\n",
       "        vertical-align: middle;\n",
       "    }\n",
       "\n",
       "    .dataframe tbody tr th {\n",
       "        vertical-align: top;\n",
       "    }\n",
       "\n",
       "    .dataframe thead th {\n",
       "        text-align: right;\n",
       "    }\n",
       "</style>\n",
       "<table border=\"1\" class=\"dataframe\">\n",
       "  <thead>\n",
       "    <tr style=\"text-align: right;\">\n",
       "      <th></th>\n",
       "      <th>Album</th>\n",
       "      <th>Artist</th>\n",
       "      <th>Year</th>\n",
       "      <th>Track</th>\n",
       "    </tr>\n",
       "  </thead>\n",
       "  <tbody>\n",
       "    <tr>\n",
       "      <th>0</th>\n",
       "      <td>Timeless</td>\n",
       "      <td>Davido</td>\n",
       "      <td>2023</td>\n",
       "      <td>[Bop, Picasso, In the garden, E pain me, God f...</td>\n",
       "    </tr>\n",
       "    <tr>\n",
       "      <th>1</th>\n",
       "      <td>I told them</td>\n",
       "      <td>Burna boy</td>\n",
       "      <td>2023</td>\n",
       "      <td>[12 Jewel, I told them, Thanks, Cheat on me, G...</td>\n",
       "    </tr>\n",
       "    <tr>\n",
       "      <th>2</th>\n",
       "      <td>Take Care</td>\n",
       "      <td>Drake</td>\n",
       "      <td>2011</td>\n",
       "      <td>[Crew love, The motto, Lord knows, Take care, ...</td>\n",
       "    </tr>\n",
       "  </tbody>\n",
       "</table>\n",
       "</div>"
      ],
      "text/plain": [
       "         Album     Artist  Year  \\\n",
       "0     Timeless     Davido  2023   \n",
       "1  I told them  Burna boy  2023   \n",
       "2    Take Care      Drake  2011   \n",
       "\n",
       "                                               Track  \n",
       "0  [Bop, Picasso, In the garden, E pain me, God f...  \n",
       "1  [12 Jewel, I told them, Thanks, Cheat on me, G...  \n",
       "2  [Crew love, The motto, Lord knows, Take care, ...  "
      ]
     },
     "execution_count": 14,
     "metadata": {},
     "output_type": "execute_result"
    }
   ],
   "source": [
    "json_file.head()"
   ]
  },
  {
   "cell_type": "markdown",
   "id": "7f3cf9e4",
   "metadata": {},
   "source": [
    "We determine whether the two data frames have the same structure by using the equal() function"
   ]
  },
  {
   "cell_type": "code",
   "execution_count": 17,
   "id": "41dfc3f8",
   "metadata": {},
   "outputs": [
    {
     "name": "stdout",
     "output_type": "stream",
     "text": [
      "Are the two DataFrames identical? False\n"
     ]
    }
   ],
   "source": [
    "# Check if the two DataFrames are identical\n",
    "identical = html_file.equals(json_file)\n",
    "print(\"Are the two DataFrames identical?\", identical)"
   ]
  },
  {
   "cell_type": "markdown",
   "id": "99d24c96",
   "metadata": {},
   "source": [
    "## Part II: (40 points): Scraping the Katz School’s “Staff” Web Page\n",
    "For Part II of Project 2 you will be using your web scraping skills to extract data from a Katz School web page. Specifically, you will be extracting specific content from the Katz School’s “Staff” information page."
   ]
  },
  {
   "cell_type": "markdown",
   "id": "e4aeafa7",
   "metadata": {},
   "source": [
    "To complete this web scraping part have to follow some steps..\n",
    "- Collected the data from the [website](https://www.yu.edu/katz/staff)\n",
    "- Used beautiful soup library to parse the web data to make dataframe about katz staff which containing columns like name, title, phone, email and ofiice of staffs.\n",
    "\n",
    "Import the website into Jupyter Notebook.\n",
    "\n",
    "The below code block defines a web page URL and fetches data from that URL using the `requests` library.\n"
   ]
  },
  {
   "cell_type": "code",
   "execution_count": 19,
   "id": "0920d614",
   "metadata": {},
   "outputs": [],
   "source": [
    "# Web page url for katz staff\n",
    "url = \"https://www.yu.edu/katz/staff\"\n",
    "# Fetching the url by request.get method to load the data in a varibale name response. \n",
    "response = requests.get(url)"
   ]
  },
  {
   "cell_type": "code",
   "execution_count": 20,
   "id": "0b5ef8a0",
   "metadata": {},
   "outputs": [
    {
     "data": {
      "text/plain": [
       "200"
      ]
     },
     "execution_count": 20,
     "metadata": {},
     "output_type": "execute_result"
    }
   ],
   "source": [
    "# Check if the request was successful (status code 200)\n",
    "response.status_code"
   ]
  },
  {
   "cell_type": "markdown",
   "id": "b5ae08ee",
   "metadata": {},
   "source": [
    "The line of code below is using the BeautifulSoup library to parse the HTML content of a web page. The BeautifulSoup class takes two arguments: the HTML content to be parsed, and the name of the parser to use. In this case, the HTML content is being passed in as the response.content object."
   ]
  },
  {
   "cell_type": "code",
   "execution_count": 21,
   "id": "e9d3b9c7",
   "metadata": {},
   "outputs": [],
   "source": [
    "# Parse the HTML content of the page using BeautifulSoup\n",
    "soup = BeautifulSoup(response.content,'html.parser')"
   ]
  },
  {
   "cell_type": "code",
   "execution_count": 77,
   "id": "e89caf9f",
   "metadata": {},
   "outputs": [
    {
     "data": {
      "text/plain": [
       "[<div class=\"text-only\">\n",
       " <div class=\"field field--name-field-paragraph-body\"><h3>Office of the Dean </h3>\n",
       " <p>Paul Russo, Vice Provost and Dean <br/>\n",
       " Professor of Data Science<br/><a href=\"/faculty/pages/russo-paul\">Read Dr. Russo's Biography</a> </p>\n",
       " <p>Aaron Ross, Assistant Dean for Academic Programs and Deputy to the Dean <br/><a href=\"mailto:Aaron.Ross2@yu.edu\">aaron.ross2@yu.edu</a> | 646-592-4148  <br/>\n",
       "  <br/>\n",
       " Sofia Binioris, Director of Communications and Strategic Initiatives<br/><a href=\"mailto:Sofia.Binioris@yu.edu\">sofia.binioris@yu.edu</a> | 645-592-4719</p>\n",
       " <p>Jackie Hamilton, Executive Director of Enrollment Management and Partnerships<br/><a href=\"mailto:jackie.hamilton@yu.edu\">jackie.hamilton@yu.edu</a> I 646-787-6194</p>\n",
       " <p>Pamela Rodman, Director of Finance and Administration<br/><a href=\"mailto:pamela.rodman@yu.edu\">pamela.rodman@yu.edu</a> I 646.592.4777</p>\n",
       " <p>Tabitha Collazo, Business and Operations Coordinator<br/><a href=\"mailto:tabitha.collazo@yu.edu\">tabitha.collazo@yu.edu</a> | 646-592-4735</p>\n",
       " <p>Ann Leary, <span style='font-size:12.0pt;\n",
       " mso-fareast-font-family:\"Times New Roman\";color:black'>Office Manager/Executive Assistant to the Dean's Office</span><br/><a href=\"mailto:ann.leary@yu.edu\">ann.leary@yu.edu</a> | 646-592-4724</p>\n",
       " <p> </p>\n",
       " <h3>Graduate Admissions</h3>\n",
       " <p>Jared Hakimi, Director<br/><a href=\"mailto:jared.hakimi@yu.edu\">jared.hakimi@yu.edu</a> | 646-592-4722 | <a href=\"https://go.yu.edu/meetings/jared-hakimi?_ga=2.135529905.1027554153.1643634144-1633120133.1643634142\">Schedule an Appointment</a></p>\n",
       " <p>Xavier Velasquez, Associate Director of Graduate Admissions Operations<br/><a href=\"mailto:xavier.velasquez@yu.edu\">xavier.velasquez@yu.edu</a> | 646-592-4737 | <a href=\"https://meetings.hubspot.com/xavier-velasquez?__hstc=56700149.5db5eded2ec4d880f347de3c9e3d599c.1643634145606.1643634145606.1643634145606.1&amp;__hssc=56700149.15.1643634145606&amp;__hsfp=26732394\">Schedule an Appointment</a></p>\n",
       " <p>Shayna Matzner, Assistant Director<br/><a data-auth=\"NotApplicable\" data-linkindex=\"1\" href=\"mailto:Shayna.matzner@yu.edu\" rel=\"noopener noreferrer\" target=\"_blank\">shayna.matzner@yu.edu</a> I 646-592-4726 I <a href=\"https://meetings.hubspot.com/shayna-matzner\" target=\"_blank\">Schedule an Appointment</a></p>\n",
       " <p>Linyu Zheng, Assistant Director<br/><a data-extlink=\"\" href=\"mailto:linyu.zheng@yu.edu\">linyu.zheng@yu.edu</a> I +1-332-271-5865 I <a data-extlink=\"\" href=\"https://meetings.hubspot.com/linyu?__hstc=56700149.b43e743c1ab61d02ba236e596c37e852.1683049744694.1683213755722.1683220006543.9&amp;__hssc=56700149.10.1683220006543&amp;__hsfp=1136147948\" rel=\"noopener\" target=\"_blank\">Schedule an Appointment</a></p>\n",
       " <p>Hyokyeong \"Kyeong\" Yu, International Student Advisor<br/><a href=\"mailto:hyokyeong.yu@yu.edu\">hyokyeong.yu@yu.edu</a> I 646-592-4736</p>\n",
       " <p> </p>\n",
       " <h3>Graduate Student Life</h3>\n",
       " <p>Rafael Reyes, Director of Graduate Student Life and Community Engagement<br/><a href=\"mailto:rafael.reyes@yu.edu\">rafael.reyes@yu.edu</a> I 646-592-4729</p>\n",
       " <p> </p>\n",
       " <h3>Academic Operations and Teaching and Learning</h3>\n",
       " <p>John Vivolo, Executive Director of Academic Operations and Teaching and Learning<br/><a href=\"mailto:john.vivolo@yu.edu\">john.vivolo@yu.edu</a> | 646-592-4743</p>\n",
       " <p>Nebahat Bayrakcioglu, Academic Program Coordinator, Physician Assistant Studies<br/><a href=\"mailto:nebahat.bayrakcioglu@yu.edu\">nebahat.bayrakcioglu@yu.edu</a> | 646-592-4034</p>\n",
       " <p>Gladys Davis, Academic Program Coordinator, Occupational Therapy<br/><a href=\"mailto:gladys.davis@yu.edu\">gladys.davis@yu.edu</a> | 646-592-4762</p>\n",
       " <p>Ariana Allias, Program Manager, STEM<br/><a href=\"mailto:ariana.allias@yu.edu\">ariana.allias@yu.edu</a> </p>\n",
       " <p>Lloyd Carew-Reid, Instructional Designer<br/><a href=\"mailto:Lloyd.Carewreid@yu.edu\">lloyd.carew-reid@yu.edu</a> | 646-592-4768</p>\n",
       " <p>Denton Field, Media Production Manager<br/><a href=\"mailto:denton.field@yu.edu\">denton.field@yu.edu</a></p>\n",
       " </div>\n",
       " </div>]"
      ]
     },
     "execution_count": 77,
     "metadata": {},
     "output_type": "execute_result"
    }
   ],
   "source": [
    "# Find the div with class \"text-only\"\n",
    "staff_info = soup.find_all('div',class_='text-only')\n",
    "staff_info"
   ]
  },
  {
   "cell_type": "markdown",
   "id": "28f7b35d",
   "metadata": {},
   "source": [
    "We extract relevant staff information, including names, titles, email addresses, phone numbers, and office locations.\n",
    "\n"
   ]
  },
  {
   "cell_type": "code",
   "execution_count": 24,
   "id": "fb3b6d08",
   "metadata": {},
   "outputs": [
    {
     "data": {
      "text/plain": [
       "[<p>Paul Russo, Vice Provost and Dean <br/>\n",
       " Professor of Data Science<br/><a href=\"/faculty/pages/russo-paul\">Read Dr. Russo's Biography</a> </p>,\n",
       " <p>Aaron Ross, Assistant Dean for Academic Programs and Deputy to the Dean <br/><a href=\"mailto:Aaron.Ross2@yu.edu\">aaron.ross2@yu.edu</a> | 646-592-4148  <br/>\n",
       "  <br/>\n",
       " Sofia Binioris, Director of Communications and Strategic Initiatives<br/><a href=\"mailto:Sofia.Binioris@yu.edu\">sofia.binioris@yu.edu</a> | 645-592-4719</p>,\n",
       " <p>Jackie Hamilton, Executive Director of Enrollment Management and Partnerships<br/><a href=\"mailto:jackie.hamilton@yu.edu\">jackie.hamilton@yu.edu</a> I 646-787-6194</p>,\n",
       " <p>Pamela Rodman, Director of Finance and Administration<br/><a href=\"mailto:pamela.rodman@yu.edu\">pamela.rodman@yu.edu</a> I 646.592.4777</p>,\n",
       " <p>Tabitha Collazo, Business and Operations Coordinator<br/><a href=\"mailto:tabitha.collazo@yu.edu\">tabitha.collazo@yu.edu</a> | 646-592-4735</p>,\n",
       " <p>Ann Leary, <span style='font-size:12.0pt;\n",
       " mso-fareast-font-family:\"Times New Roman\";color:black'>Office Manager/Executive Assistant to the Dean's Office</span><br/><a href=\"mailto:ann.leary@yu.edu\">ann.leary@yu.edu</a> | 646-592-4724</p>,\n",
       " <p> </p>,\n",
       " <p>Jared Hakimi, Director<br/><a href=\"mailto:jared.hakimi@yu.edu\">jared.hakimi@yu.edu</a> | 646-592-4722 | <a href=\"https://go.yu.edu/meetings/jared-hakimi?_ga=2.135529905.1027554153.1643634144-1633120133.1643634142\">Schedule an Appointment</a></p>,\n",
       " <p>Xavier Velasquez, Associate Director of Graduate Admissions Operations<br/><a href=\"mailto:xavier.velasquez@yu.edu\">xavier.velasquez@yu.edu</a> | 646-592-4737 | <a href=\"https://meetings.hubspot.com/xavier-velasquez?__hstc=56700149.5db5eded2ec4d880f347de3c9e3d599c.1643634145606.1643634145606.1643634145606.1&amp;__hssc=56700149.15.1643634145606&amp;__hsfp=26732394\">Schedule an Appointment</a></p>,\n",
       " <p>Shayna Matzner, Assistant Director<br/><a data-auth=\"NotApplicable\" data-linkindex=\"1\" href=\"mailto:Shayna.matzner@yu.edu\" rel=\"noopener noreferrer\" target=\"_blank\">shayna.matzner@yu.edu</a> I 646-592-4726 I <a href=\"https://meetings.hubspot.com/shayna-matzner\" target=\"_blank\">Schedule an Appointment</a></p>,\n",
       " <p>Linyu Zheng, Assistant Director<br/><a data-extlink=\"\" href=\"mailto:linyu.zheng@yu.edu\">linyu.zheng@yu.edu</a> I +1-332-271-5865 I <a data-extlink=\"\" href=\"https://meetings.hubspot.com/linyu?__hstc=56700149.b43e743c1ab61d02ba236e596c37e852.1683049744694.1683213755722.1683220006543.9&amp;__hssc=56700149.10.1683220006543&amp;__hsfp=1136147948\" rel=\"noopener\" target=\"_blank\">Schedule an Appointment</a></p>,\n",
       " <p>Hyokyeong \"Kyeong\" Yu, International Student Advisor<br/><a href=\"mailto:hyokyeong.yu@yu.edu\">hyokyeong.yu@yu.edu</a> I 646-592-4736</p>,\n",
       " <p> </p>,\n",
       " <p>Rafael Reyes, Director of Graduate Student Life and Community Engagement<br/><a href=\"mailto:rafael.reyes@yu.edu\">rafael.reyes@yu.edu</a> I 646-592-4729</p>,\n",
       " <p> </p>,\n",
       " <p>John Vivolo, Executive Director of Academic Operations and Teaching and Learning<br/><a href=\"mailto:john.vivolo@yu.edu\">john.vivolo@yu.edu</a> | 646-592-4743</p>,\n",
       " <p>Nebahat Bayrakcioglu, Academic Program Coordinator, Physician Assistant Studies<br/><a href=\"mailto:nebahat.bayrakcioglu@yu.edu\">nebahat.bayrakcioglu@yu.edu</a> | 646-592-4034</p>,\n",
       " <p>Gladys Davis, Academic Program Coordinator, Occupational Therapy<br/><a href=\"mailto:gladys.davis@yu.edu\">gladys.davis@yu.edu</a> | 646-592-4762</p>,\n",
       " <p>Ariana Allias, Program Manager, STEM<br/><a href=\"mailto:ariana.allias@yu.edu\">ariana.allias@yu.edu</a> </p>,\n",
       " <p>Lloyd Carew-Reid, Instructional Designer<br/><a href=\"mailto:Lloyd.Carewreid@yu.edu\">lloyd.carew-reid@yu.edu</a> | 646-592-4768</p>,\n",
       " <p>Denton Field, Media Production Manager<br/><a href=\"mailto:denton.field@yu.edu\">denton.field@yu.edu</a></p>]"
      ]
     },
     "execution_count": 24,
     "metadata": {},
     "output_type": "execute_result"
    }
   ],
   "source": [
    "# Extract all paragrapgh from text into staff_arr variable\n",
    "staff_arr = staff[0].find_all('p')\n",
    "staff_arr"
   ]
  },
  {
   "cell_type": "markdown",
   "id": "92458f8f",
   "metadata": {},
   "source": [
    "### Getting the name of staff:\n",
    "To extract staff name, we will create an empty list and iterate through the staff data using a for loop. Within the loop, we will employ a regular expression and a lambda function to identify and extract valid names from the data. The extracted names will be appended to the empty list, resulting in a clean list of staff names."
   ]
  },
  {
   "cell_type": "code",
   "execution_count": 25,
   "id": "6776cf08",
   "metadata": {},
   "outputs": [],
   "source": [
    "# create an empty list \n",
    "names = []\n",
    "# Using for loop and regex get the names of staff\n",
    "for name in staff_info[0].find_all('p'):\n",
    "  name = name.get_text()\n",
    "  name = name.split('\\xa0\\n\\xa0\\n')\n",
    "  if len(name) == 1:\n",
    "    name = name[0].split(',')\n",
    "    names.append(name[0])\n",
    "  else:\n",
    "    for n in name:\n",
    "      n = n.split(',')\n",
    "      names.append(n[0])\n",
    "\n",
    "names = list(filter(lambda x: len(x) > 0 and x != '\\xa0',names))"
   ]
  },
  {
   "cell_type": "code",
   "execution_count": 62,
   "id": "2f400e64",
   "metadata": {
    "scrolled": true
   },
   "outputs": [
    {
     "name": "stdout",
     "output_type": "stream",
     "text": [
      "The name of staffs : ['Paul Russo', 'Aaron Ross', 'Sofia Binioris', 'Jackie Hamilton', 'Pamela Rodman', 'Tabitha Collazo', 'Ann Leary', 'Jared Hakimi', 'Xavier Velasquez', 'Shayna Matzner', 'Linyu Zheng', 'Hyokyeong \"Kyeong\" Yu', 'Rafael Reyes', 'John Vivolo', 'Nebahat Bayrakcioglu', 'Gladys Davis', 'Ariana Allias', 'Lloyd Carew-Reid', 'Denton Field']\n",
      "The total number of staffs are : 19\n"
     ]
    }
   ],
   "source": [
    "# see the name of staffs at katz\n",
    "print(\"The name of staffs :\", names)\n",
    "# View the number of staffs at katz\n",
    "print(\"The total number of staffs are :\", len(names))"
   ]
  },
  {
   "cell_type": "markdown",
   "id": "bce3b5a0",
   "metadata": {},
   "source": [
    "Extract the email addresses:\n",
    "To extract email addresses from the data,create an empty list, iterate through the data using a for loop, and apply a regular expression to extract and clean the addresses."
   ]
  },
  {
   "cell_type": "code",
   "execution_count": 27,
   "id": "3a107c31",
   "metadata": {},
   "outputs": [],
   "source": [
    "# Creating an empty list emails\n",
    "emails = []\n",
    "\n",
    "for email in staff[0].find_all('p'):\n",
    "\n",
    "  for a in email.find_all('a'):\n",
    "    emails.append(a.text)\n",
    "\n",
    "emails = list(filter(lambda x: 'Schedule an Appointment' not in x,emails))\n",
    "email_pattern = r'^[a-zA-Z0-9._%+-]+@[a-zA-Z0-9.-]+\\.[a-zA-Z]{2,}$'\n",
    "\n",
    "emails = list(map(lambda x: x if re.match(email_pattern,x) else 'NA',emails))"
   ]
  },
  {
   "cell_type": "code",
   "execution_count": 30,
   "id": "c2db7baa",
   "metadata": {
    "scrolled": true
   },
   "outputs": [
    {
     "name": "stdout",
     "output_type": "stream",
     "text": [
      "The email of staffs : ['NA', 'aaron.ross2@yu.edu', 'sofia.binioris@yu.edu', 'jackie.hamilton@yu.edu', 'pamela.rodman@yu.edu', 'tabitha.collazo@yu.edu', 'ann.leary@yu.edu', 'jared.hakimi@yu.edu', 'xavier.velasquez@yu.edu', 'shayna.matzner@yu.edu', 'linyu.zheng@yu.edu', 'hyokyeong.yu@yu.edu', 'rafael.reyes@yu.edu', 'john.vivolo@yu.edu', 'nebahat.bayrakcioglu@yu.edu', 'gladys.davis@yu.edu', 'ariana.allias@yu.edu', 'lloyd.carew-reid@yu.edu', 'denton.field@yu.edu']\n",
      "The total number of emails are including NA(who has no email): 19\n"
     ]
    }
   ],
   "source": [
    "# see the email of staffs at katz\n",
    "print(\"The email of staffs :\", emails)\n",
    "\n",
    "#print(\"xxxxxxxxxxxxxxxxxxxxxxxxxxxxxxxxxxxxxx\")\n",
    "\n",
    "# View the number of emails at katz\n",
    "print(\"The total number of emails are including NA(who has no email):\", len(emails))"
   ]
  },
  {
   "cell_type": "markdown",
   "id": "e622ebb6",
   "metadata": {},
   "source": [
    "## Getting the title of staff\n",
    "To extract staff titles from the data, create an empty list, iterate through the data using a for loop, and apply a regular expression to extract and clean the titles."
   ]
  },
  {
   "cell_type": "code",
   "execution_count": 39,
   "id": "54eac868",
   "metadata": {},
   "outputs": [],
   "source": [
    "# Create an empty list as titles\n",
    "titles = []\n",
    "\n",
    "i = 0\n",
    "for title in staff[0].find_all('p'):\n",
    "  title =  title.get_text()\n",
    "  title = title.split('\\xa0\\n\\xa0\\n')\n",
    "  if title == ['\\xa0']:\n",
    "    continue\n",
    "  if len(title) == 1:\n",
    "    titles.append(title[0].split(',')[1].split(emails[i])[0])\n",
    "    i += 1\n",
    "  else:\n",
    "    for t in title:\n",
    "      titles.append(t.split(',')[1].split(emails[i])[0])\n",
    "      i += 1"
   ]
  },
  {
   "cell_type": "markdown",
   "id": "68305601",
   "metadata": {},
   "source": [
    "__Show the titles and number of titles in the dataset__"
   ]
  },
  {
   "cell_type": "code",
   "execution_count": 41,
   "id": "23b194eb",
   "metadata": {},
   "outputs": [
    {
     "name": "stdout",
     "output_type": "stream",
     "text": [
      "The title of staffs : [\" Vice Provost and Dean\\xa0\\nProfessor of Data ScienceRead Dr. Russo's Biography\\xa0\", ' Assistant Dean for Academic Programs and Deputy to the Dean\\xa0', ' Director of Communications and Strategic Initiatives', ' Executive Director of Enrollment Management and Partnerships', ' Director of Finance and Administration', ' Business and Operations Coordinator', \"\\xa0Office Manager/Executive Assistant to the Dean's Office\", ' Director', ' Associate Director of Graduate Admissions Operations', ' Assistant Director', '\\xa0Assistant Director', ' International Student Advisor', ' Director of Graduate Student Life and Community Engagement', ' Executive Director of Academic Operations and Teaching and Learning', ' Academic Program Coordinator', ' Academic Program Coordinator', ' Program Manager', '\\xa0Instructional Designer', ' Media Production Manager']\n",
      "xxxxxxxxxxxxxxxxxxxxxxxxxxxxxxxxxxxxxx\n",
      "The total number of titles are : 19\n"
     ]
    }
   ],
   "source": [
    "# See the title of staffs at katz\n",
    "print(\"The title of staffs :\", titles)\n",
    "\n",
    "print(\"xxxxxxxxxxxxxxxxxxxxxxxxxxxxxxxxxxxxxx\")\n",
    "\n",
    "# View the number of titles at katz\n",
    "print(\"The total number of titles are :\", len(titles))"
   ]
  },
  {
   "cell_type": "markdown",
   "id": "854c7158",
   "metadata": {},
   "source": [
    "## Find the offices from the heading elements under h3\n",
    "h3_elements = staff[0].find_all('h3')\n",
    "h3_elements"
   ]
  },
  {
   "cell_type": "code",
   "execution_count": 33,
   "id": "bead1eec",
   "metadata": {
    "scrolled": true
   },
   "outputs": [
    {
     "data": {
      "text/plain": [
       "['Office of the Dean',\n",
       " 'Graduate Admissions',\n",
       " 'Graduate Student Life',\n",
       " 'Academic Operations and Teaching and Learning']"
      ]
     },
     "execution_count": 33,
     "metadata": {},
     "output_type": "execute_result"
    }
   ],
   "source": [
    "# Extract and store the text in the offices variable as list\n",
    "offices = [h3.get_text().strip() for h3 in h3_elements]\n",
    "offices"
   ]
  },
  {
   "cell_type": "markdown",
   "id": "c828b636",
   "metadata": {},
   "source": [
    "## Getting the phone number of staff\n",
    "To extract staff phone numbers from the data, create an empty list, iterate through the data using a for loop, and apply a regular expression to extract and clean the numbers."
   ]
  },
  {
   "cell_type": "code",
   "execution_count": 43,
   "id": "8d44643b",
   "metadata": {},
   "outputs": [],
   "source": [
    "# Create an empty list an phone nums\n",
    "phone_nums = []\n",
    "\n",
    "i = 0\n",
    "for phones in staff[0].find_all('p'):\n",
    "  phones =  phones.get_text()\n",
    "  phones = phones.split('\\xa0\\n\\xa0\\n')\n",
    "  phone_pattern = r'(\\+\\d{1,3}\\s?)?(\\d{3}[-\\s]?\\d{3}[-\\s]?\\d{4})'\n",
    "\n",
    "  if phones == ['\\xa0']:\n",
    "    continue\n",
    "  if len(phones) == 1:\n",
    "    filter_phone = re.findall(phone_pattern,phones[0])\n",
    "    if filter_phone:\n",
    "      phone_nums.append(filter_phone[0][1])\n",
    "    else:\n",
    "      phone_nums.append(\"NA\")\n",
    "    # print(filter_phone)\n",
    "    # break\n",
    "    # titles.append(title[0].split(',')[1].split(emails[i])[0])\n",
    "    i += 1\n",
    "  else:\n",
    "    for p in phones:\n",
    "      filter_phone = re.findall(phone_pattern,p)\n",
    "      if filter_phone:\n",
    "        phone_nums.append(filter_phone[0][1])\n",
    "      else:\n",
    "        phone_nums.append(\"NA\")\n",
    "      # titles.append(t.split(',')[1].split(emails[i])[0])\n",
    "      i += 1"
   ]
  },
  {
   "cell_type": "code",
   "execution_count": 78,
   "id": "f674c5cf",
   "metadata": {},
   "outputs": [
    {
     "name": "stdout",
     "output_type": "stream",
     "text": [
      "The phone number of staffs : ['NA', '646-592-4148', '645-592-4719', '646-787-6194', 'NA', '646-592-4735', '646-592-4724', '646-592-4722', '646-592-4737', '646-592-4726', '332-271-5865', '646-592-4736', '646-592-4729', '646-592-4743', '646-592-4034', '646-592-4762', 'NA', '646-592-4768', 'NA']\n",
      "xxxxxxxxxxxxxxxxxxxxxxxxxxxxxxxxxxxxxx\n",
      "The total number of phones user are : 19\n"
     ]
    }
   ],
   "source": [
    "# Find the phone numbers of staffs at katz\n",
    "print(\"The phone number of staffs :\", phone_nums)\n",
    "\n",
    "print(\"xxxxxxxxxxxxxxxxxxxxxxxxxxxxxxxxxxxxxx\")\n",
    "\n",
    "# View the number of phones for staff use at katz\n",
    "print(\"The total number of phones user are :\", len(phone_nums))"
   ]
  },
  {
   "cell_type": "markdown",
   "id": "2c9a4d01",
   "metadata": {},
   "source": [
    "### Creating the dataframe"
   ]
  },
  {
   "cell_type": "code",
   "execution_count": 83,
   "id": "9dc9c035",
   "metadata": {},
   "outputs": [],
   "source": [
    "# Creating dataframe as staff\n",
    "staff_info = pd.DataFrame({\n",
    "    #\"office\": offices,\n",
    "    \"name\": names,\n",
    "    \"title\": titles,\n",
    "    \"email\": emails,\n",
    "    \"phone\": phone_nums\n",
    "})"
   ]
  },
  {
   "cell_type": "code",
   "execution_count": 85,
   "id": "86be5e7a",
   "metadata": {},
   "outputs": [],
   "source": [
    "# Create a new column for the office\n",
    "staff_info['office'] = ''\n",
    "\n",
    "# Assign values to the 'office' column\n",
    "staff_info.loc[:6, 'office'] = offices[0]\n",
    "staff_info.loc[7:11, 'office'] = offices[1]\n",
    "staff_info.loc[12, 'office'] = offices[2]\n",
    "staff_info.loc[13:, 'office'] = offices[3]"
   ]
  },
  {
   "cell_type": "code",
   "execution_count": 86,
   "id": "9ac2c629",
   "metadata": {},
   "outputs": [
    {
     "data": {
      "text/html": [
       "<div>\n",
       "<style scoped>\n",
       "    .dataframe tbody tr th:only-of-type {\n",
       "        vertical-align: middle;\n",
       "    }\n",
       "\n",
       "    .dataframe tbody tr th {\n",
       "        vertical-align: top;\n",
       "    }\n",
       "\n",
       "    .dataframe thead th {\n",
       "        text-align: right;\n",
       "    }\n",
       "</style>\n",
       "<table border=\"1\" class=\"dataframe\">\n",
       "  <thead>\n",
       "    <tr style=\"text-align: right;\">\n",
       "      <th></th>\n",
       "      <th>name</th>\n",
       "      <th>title</th>\n",
       "      <th>email</th>\n",
       "      <th>phone</th>\n",
       "      <th>office</th>\n",
       "    </tr>\n",
       "  </thead>\n",
       "  <tbody>\n",
       "    <tr>\n",
       "      <th>0</th>\n",
       "      <td>Paul Russo</td>\n",
       "      <td>Vice Provost and Dean \\nProfessor of Data Sci...</td>\n",
       "      <td>NA</td>\n",
       "      <td>NA</td>\n",
       "      <td>Office of the Dean</td>\n",
       "    </tr>\n",
       "    <tr>\n",
       "      <th>1</th>\n",
       "      <td>Aaron Ross</td>\n",
       "      <td>Assistant Dean for Academic Programs and Depu...</td>\n",
       "      <td>aaron.ross2@yu.edu</td>\n",
       "      <td>646-592-4148</td>\n",
       "      <td>Office of the Dean</td>\n",
       "    </tr>\n",
       "    <tr>\n",
       "      <th>2</th>\n",
       "      <td>Sofia Binioris</td>\n",
       "      <td>Director of Communications and Strategic Init...</td>\n",
       "      <td>sofia.binioris@yu.edu</td>\n",
       "      <td>645-592-4719</td>\n",
       "      <td>Office of the Dean</td>\n",
       "    </tr>\n",
       "    <tr>\n",
       "      <th>3</th>\n",
       "      <td>Jackie Hamilton</td>\n",
       "      <td>Executive Director of Enrollment Management a...</td>\n",
       "      <td>jackie.hamilton@yu.edu</td>\n",
       "      <td>646-787-6194</td>\n",
       "      <td>Office of the Dean</td>\n",
       "    </tr>\n",
       "    <tr>\n",
       "      <th>4</th>\n",
       "      <td>Pamela Rodman</td>\n",
       "      <td>Director of Finance and Administration</td>\n",
       "      <td>pamela.rodman@yu.edu</td>\n",
       "      <td>NA</td>\n",
       "      <td>Office of the Dean</td>\n",
       "    </tr>\n",
       "    <tr>\n",
       "      <th>5</th>\n",
       "      <td>Tabitha Collazo</td>\n",
       "      <td>Business and Operations Coordinator</td>\n",
       "      <td>tabitha.collazo@yu.edu</td>\n",
       "      <td>646-592-4735</td>\n",
       "      <td>Office of the Dean</td>\n",
       "    </tr>\n",
       "    <tr>\n",
       "      <th>6</th>\n",
       "      <td>Ann Leary</td>\n",
       "      <td>Office Manager/Executive Assistant to the Dea...</td>\n",
       "      <td>ann.leary@yu.edu</td>\n",
       "      <td>646-592-4724</td>\n",
       "      <td>Office of the Dean</td>\n",
       "    </tr>\n",
       "    <tr>\n",
       "      <th>7</th>\n",
       "      <td>Jared Hakimi</td>\n",
       "      <td>Director</td>\n",
       "      <td>jared.hakimi@yu.edu</td>\n",
       "      <td>646-592-4722</td>\n",
       "      <td>Graduate Admissions</td>\n",
       "    </tr>\n",
       "    <tr>\n",
       "      <th>8</th>\n",
       "      <td>Xavier Velasquez</td>\n",
       "      <td>Associate Director of Graduate Admissions Ope...</td>\n",
       "      <td>xavier.velasquez@yu.edu</td>\n",
       "      <td>646-592-4737</td>\n",
       "      <td>Graduate Admissions</td>\n",
       "    </tr>\n",
       "    <tr>\n",
       "      <th>9</th>\n",
       "      <td>Shayna Matzner</td>\n",
       "      <td>Assistant Director</td>\n",
       "      <td>shayna.matzner@yu.edu</td>\n",
       "      <td>646-592-4726</td>\n",
       "      <td>Graduate Admissions</td>\n",
       "    </tr>\n",
       "    <tr>\n",
       "      <th>10</th>\n",
       "      <td>Linyu Zheng</td>\n",
       "      <td>Assistant Director</td>\n",
       "      <td>linyu.zheng@yu.edu</td>\n",
       "      <td>332-271-5865</td>\n",
       "      <td>Graduate Admissions</td>\n",
       "    </tr>\n",
       "    <tr>\n",
       "      <th>11</th>\n",
       "      <td>Hyokyeong \"Kyeong\" Yu</td>\n",
       "      <td>International Student Advisor</td>\n",
       "      <td>hyokyeong.yu@yu.edu</td>\n",
       "      <td>646-592-4736</td>\n",
       "      <td>Graduate Admissions</td>\n",
       "    </tr>\n",
       "    <tr>\n",
       "      <th>12</th>\n",
       "      <td>Rafael Reyes</td>\n",
       "      <td>Director of Graduate Student Life and Communi...</td>\n",
       "      <td>rafael.reyes@yu.edu</td>\n",
       "      <td>646-592-4729</td>\n",
       "      <td>Graduate Student Life</td>\n",
       "    </tr>\n",
       "    <tr>\n",
       "      <th>13</th>\n",
       "      <td>John Vivolo</td>\n",
       "      <td>Executive Director of Academic Operations and...</td>\n",
       "      <td>john.vivolo@yu.edu</td>\n",
       "      <td>646-592-4743</td>\n",
       "      <td>Academic Operations and Teaching and Learning</td>\n",
       "    </tr>\n",
       "    <tr>\n",
       "      <th>14</th>\n",
       "      <td>Nebahat Bayrakcioglu</td>\n",
       "      <td>Academic Program Coordinator</td>\n",
       "      <td>nebahat.bayrakcioglu@yu.edu</td>\n",
       "      <td>646-592-4034</td>\n",
       "      <td>Academic Operations and Teaching and Learning</td>\n",
       "    </tr>\n",
       "    <tr>\n",
       "      <th>15</th>\n",
       "      <td>Gladys Davis</td>\n",
       "      <td>Academic Program Coordinator</td>\n",
       "      <td>gladys.davis@yu.edu</td>\n",
       "      <td>646-592-4762</td>\n",
       "      <td>Academic Operations and Teaching and Learning</td>\n",
       "    </tr>\n",
       "    <tr>\n",
       "      <th>16</th>\n",
       "      <td>Ariana Allias</td>\n",
       "      <td>Program Manager</td>\n",
       "      <td>ariana.allias@yu.edu</td>\n",
       "      <td>NA</td>\n",
       "      <td>Academic Operations and Teaching and Learning</td>\n",
       "    </tr>\n",
       "    <tr>\n",
       "      <th>17</th>\n",
       "      <td>Lloyd Carew-Reid</td>\n",
       "      <td>Instructional Designer</td>\n",
       "      <td>lloyd.carew-reid@yu.edu</td>\n",
       "      <td>646-592-4768</td>\n",
       "      <td>Academic Operations and Teaching and Learning</td>\n",
       "    </tr>\n",
       "    <tr>\n",
       "      <th>18</th>\n",
       "      <td>Denton Field</td>\n",
       "      <td>Media Production Manager</td>\n",
       "      <td>denton.field@yu.edu</td>\n",
       "      <td>NA</td>\n",
       "      <td>Academic Operations and Teaching and Learning</td>\n",
       "    </tr>\n",
       "  </tbody>\n",
       "</table>\n",
       "</div>"
      ],
      "text/plain": [
       "                     name                                              title  \\\n",
       "0              Paul Russo   Vice Provost and Dean \\nProfessor of Data Sci...   \n",
       "1              Aaron Ross   Assistant Dean for Academic Programs and Depu...   \n",
       "2          Sofia Binioris   Director of Communications and Strategic Init...   \n",
       "3         Jackie Hamilton   Executive Director of Enrollment Management a...   \n",
       "4           Pamela Rodman             Director of Finance and Administration   \n",
       "5         Tabitha Collazo                Business and Operations Coordinator   \n",
       "6               Ann Leary   Office Manager/Executive Assistant to the Dea...   \n",
       "7            Jared Hakimi                                           Director   \n",
       "8        Xavier Velasquez   Associate Director of Graduate Admissions Ope...   \n",
       "9          Shayna Matzner                                 Assistant Director   \n",
       "10            Linyu Zheng                                 Assistant Director   \n",
       "11  Hyokyeong \"Kyeong\" Yu                      International Student Advisor   \n",
       "12           Rafael Reyes   Director of Graduate Student Life and Communi...   \n",
       "13            John Vivolo   Executive Director of Academic Operations and...   \n",
       "14   Nebahat Bayrakcioglu                       Academic Program Coordinator   \n",
       "15           Gladys Davis                       Academic Program Coordinator   \n",
       "16          Ariana Allias                                    Program Manager   \n",
       "17       Lloyd Carew-Reid                             Instructional Designer   \n",
       "18           Denton Field                           Media Production Manager   \n",
       "\n",
       "                          email         phone  \\\n",
       "0                            NA            NA   \n",
       "1            aaron.ross2@yu.edu  646-592-4148   \n",
       "2         sofia.binioris@yu.edu  645-592-4719   \n",
       "3        jackie.hamilton@yu.edu  646-787-6194   \n",
       "4          pamela.rodman@yu.edu            NA   \n",
       "5        tabitha.collazo@yu.edu  646-592-4735   \n",
       "6              ann.leary@yu.edu  646-592-4724   \n",
       "7           jared.hakimi@yu.edu  646-592-4722   \n",
       "8       xavier.velasquez@yu.edu  646-592-4737   \n",
       "9         shayna.matzner@yu.edu  646-592-4726   \n",
       "10           linyu.zheng@yu.edu  332-271-5865   \n",
       "11          hyokyeong.yu@yu.edu  646-592-4736   \n",
       "12          rafael.reyes@yu.edu  646-592-4729   \n",
       "13           john.vivolo@yu.edu  646-592-4743   \n",
       "14  nebahat.bayrakcioglu@yu.edu  646-592-4034   \n",
       "15          gladys.davis@yu.edu  646-592-4762   \n",
       "16         ariana.allias@yu.edu            NA   \n",
       "17      lloyd.carew-reid@yu.edu  646-592-4768   \n",
       "18          denton.field@yu.edu            NA   \n",
       "\n",
       "                                           office  \n",
       "0                              Office of the Dean  \n",
       "1                              Office of the Dean  \n",
       "2                              Office of the Dean  \n",
       "3                              Office of the Dean  \n",
       "4                              Office of the Dean  \n",
       "5                              Office of the Dean  \n",
       "6                              Office of the Dean  \n",
       "7                             Graduate Admissions  \n",
       "8                             Graduate Admissions  \n",
       "9                             Graduate Admissions  \n",
       "10                            Graduate Admissions  \n",
       "11                            Graduate Admissions  \n",
       "12                          Graduate Student Life  \n",
       "13  Academic Operations and Teaching and Learning  \n",
       "14  Academic Operations and Teaching and Learning  \n",
       "15  Academic Operations and Teaching and Learning  \n",
       "16  Academic Operations and Teaching and Learning  \n",
       "17  Academic Operations and Teaching and Learning  \n",
       "18  Academic Operations and Teaching and Learning  "
      ]
     },
     "execution_count": 86,
     "metadata": {},
     "output_type": "execute_result"
    }
   ],
   "source": [
    "staff_info"
   ]
  },
  {
   "cell_type": "markdown",
   "id": "0cf08a1c",
   "metadata": {},
   "source": [
    "### Part 3: Working with Web API’s"
   ]
  },
  {
   "cell_type": "markdown",
   "id": "cfc6f020",
   "metadata": {},
   "source": [
    "To work with the newsdata.io API and convert the JSON data into a Pandas DataFrame for analysis, we need to follow these steps:\n",
    "- Sign up for an API key on the news data.io website.\n",
    "\n",
    "- Choose the API to work with \"Live Breaking News\".\n",
    "\n",
    "- Use the API to retrieve JSON data.\n",
    "\n",
    "- Parse the JSON data.\n",
    "\n",
    "- Convert the data into a Pandas DataFrame.\n",
    "\n",
    "- Perform some basic analysis on the data."
   ]
  },
  {
   "cell_type": "markdown",
   "id": "4045662a",
   "metadata": {},
   "source": [
    "Import the API into jupyter notebook and defining the URL"
   ]
  },
  {
   "cell_type": "code",
   "execution_count": 51,
   "id": "e17512fc",
   "metadata": {},
   "outputs": [],
   "source": [
    "api_key = 'pub_3243760fb6d22af18df2cd88f599ffca0ebfd'"
   ]
  },
  {
   "cell_type": "code",
   "execution_count": 52,
   "id": "3f47e969",
   "metadata": {},
   "outputs": [
    {
     "data": {
      "text/plain": [
       "'https://newsdata.io/api/1/news?apikey=pub_3243760fb6d22af18df2cd88f599ffca0ebfd&q=Live Breaking News'"
      ]
     },
     "execution_count": 52,
     "metadata": {},
     "output_type": "execute_result"
    }
   ],
   "source": [
    "# Define the API URL\n",
    "topic = 'Live Breaking News'\n",
    "api_url = f'https://newsdata.io/api/1/news?apikey={api_key}&q={topic}'\n",
    "api_url"
   ]
  },
  {
   "cell_type": "code",
   "execution_count": 53,
   "id": "d567592e",
   "metadata": {},
   "outputs": [
    {
     "data": {
      "text/plain": [
       "200"
      ]
     },
     "execution_count": 53,
     "metadata": {},
     "output_type": "execute_result"
    }
   ],
   "source": [
    "# Make the API request with my set key\n",
    "response = requests.get(api_url)\n",
    "# if response code result is 200 then we will get data sucessfully\n",
    "response.status_code"
   ]
  },
  {
   "cell_type": "code",
   "execution_count": 54,
   "id": "8c4e3e42",
   "metadata": {},
   "outputs": [],
   "source": [
    "# Check the response status code\n",
    "if response.status_code == 200:\n",
    "    data = response.json()\n",
    "else:\n",
    "    print(f\"Failed to retrieve data. Status code: {response.status_code}\")\n",
    "    data = []"
   ]
  },
  {
   "cell_type": "markdown",
   "id": "2b5fdfbb",
   "metadata": {},
   "source": [
    "## Step 4: Parse JSON Data and Create DataFrame\n",
    "After parsing the JSON data, it is converted into a Pandas DataFrame."
   ]
  },
  {
   "cell_type": "code",
   "execution_count": 55,
   "id": "73dc8106",
   "metadata": {},
   "outputs": [],
   "source": [
    "# create an emmpty list as data\n",
    "data = news = data['results']"
   ]
  },
  {
   "cell_type": "code",
   "execution_count": 56,
   "id": "bb1c5940",
   "metadata": {},
   "outputs": [
    {
     "data": {
      "text/html": [
       "<div>\n",
       "<style scoped>\n",
       "    .dataframe tbody tr th:only-of-type {\n",
       "        vertical-align: middle;\n",
       "    }\n",
       "\n",
       "    .dataframe tbody tr th {\n",
       "        vertical-align: top;\n",
       "    }\n",
       "\n",
       "    .dataframe thead th {\n",
       "        text-align: right;\n",
       "    }\n",
       "</style>\n",
       "<table border=\"1\" class=\"dataframe\">\n",
       "  <thead>\n",
       "    <tr style=\"text-align: right;\">\n",
       "      <th></th>\n",
       "      <th>article_id</th>\n",
       "      <th>title</th>\n",
       "      <th>link</th>\n",
       "      <th>keywords</th>\n",
       "      <th>creator</th>\n",
       "      <th>video_url</th>\n",
       "      <th>description</th>\n",
       "      <th>content</th>\n",
       "      <th>pubDate</th>\n",
       "      <th>image_url</th>\n",
       "      <th>source_id</th>\n",
       "      <th>source_priority</th>\n",
       "      <th>country</th>\n",
       "      <th>category</th>\n",
       "      <th>language</th>\n",
       "    </tr>\n",
       "  </thead>\n",
       "  <tbody>\n",
       "    <tr>\n",
       "      <th>0</th>\n",
       "      <td>aaf4f0424496a850f9695bdb3dd7f5ae</td>\n",
       "      <td>Harry Styles confirmed to have shaved his head...</td>\n",
       "      <td>https://metro.co.uk/2023/11/12/harry-styles-co...</td>\n",
       "      <td>[Entertainment, Showbiz, Harry Styles]</td>\n",
       "      <td>[Emily Bashforth]</td>\n",
       "      <td>None</td>\n",
       "      <td>Fans are in shock.</td>\n",
       "      <td>What’s that we can hear? Oh, just the sound of...</td>\n",
       "      <td>2023-11-12 19:07:18</td>\n",
       "      <td>None</td>\n",
       "      <td>metro</td>\n",
       "      <td>1797</td>\n",
       "      <td>[united kingdom]</td>\n",
       "      <td>[entertainment]</td>\n",
       "      <td>english</td>\n",
       "    </tr>\n",
       "    <tr>\n",
       "      <th>1</th>\n",
       "      <td>41cd2f78b845a89e687f6955a68f54eb</td>\n",
       "      <td>Olivia Attwood breaks her silence on rumours o...</td>\n",
       "      <td>https://www.dailymail.co.uk/tvshowbiz/article-...</td>\n",
       "      <td>None</td>\n",
       "      <td>None</td>\n",
       "      <td>None</td>\n",
       "      <td>Olivia Attwood has broken her silence on rumou...</td>\n",
       "      <td>Olivia Attwood breaks her silence on rumours o...</td>\n",
       "      <td>2023-11-12 18:57:34</td>\n",
       "      <td>https://i.dailymail.co.uk/1s/2023/11/12/18/777...</td>\n",
       "      <td>dailymailuk</td>\n",
       "      <td>135</td>\n",
       "      <td>[united kingdom]</td>\n",
       "      <td>[entertainment]</td>\n",
       "      <td>english</td>\n",
       "    </tr>\n",
       "    <tr>\n",
       "      <th>2</th>\n",
       "      <td>b2dcdd4ce61ea746cfeec7b19790248c</td>\n",
       "      <td>Premier League fans hail 'guaranteed entertain...</td>\n",
       "      <td>https://www.dailystar.co.uk/sport/football/pre...</td>\n",
       "      <td>[Sport]</td>\n",
       "      <td>None</td>\n",
       "      <td>None</td>\n",
       "      <td>Premier League fans have joked that it's guara...</td>\n",
       "      <td>The term \"Barclays\" has long-since risen above...</td>\n",
       "      <td>2023-11-12 18:34:03</td>\n",
       "      <td>https://i2-prod.dailystar.co.uk/incoming/artic...</td>\n",
       "      <td>dailystar</td>\n",
       "      <td>3076</td>\n",
       "      <td>[united kingdom]</td>\n",
       "      <td>[sports]</td>\n",
       "      <td>english</td>\n",
       "    </tr>\n",
       "    <tr>\n",
       "      <th>3</th>\n",
       "      <td>7e88dba2847f110d8285b743fb485044</td>\n",
       "      <td>Micah Richards and Daniel Sturridge burst into...</td>\n",
       "      <td>https://www.dailystar.co.uk/sport/football/mic...</td>\n",
       "      <td>[Football]</td>\n",
       "      <td>None</td>\n",
       "      <td>None</td>\n",
       "      <td>Sky Sports duo Micah Richards and Daniel Sturr...</td>\n",
       "      <td>Sky Sports pair and have been called 'box offi...</td>\n",
       "      <td>2023-11-12 18:06:30</td>\n",
       "      <td>https://i2-prod.dailystar.co.uk/incoming/artic...</td>\n",
       "      <td>dailystar</td>\n",
       "      <td>3076</td>\n",
       "      <td>[united kingdom]</td>\n",
       "      <td>[top]</td>\n",
       "      <td>english</td>\n",
       "    </tr>\n",
       "    <tr>\n",
       "      <th>4</th>\n",
       "      <td>406113a9bf227dc346e6fa3de9febdcc</td>\n",
       "      <td>ITV Big Brother’s Trish issues an apology afte...</td>\n",
       "      <td>https://www.manchestereveningnews.co.uk/news/t...</td>\n",
       "      <td>[TV]</td>\n",
       "      <td>[newsdesk@men-news.co.uk (Amelia Ward, Liv Cla...</td>\n",
       "      <td>None</td>\n",
       "      <td>Trish was evicted alongside Chanelle on Friday...</td>\n",
       "      <td>ITV Big Brother’s Trish has issued an apology ...</td>\n",
       "      <td>2023-11-12 17:31:10</td>\n",
       "      <td>https://i2-prod.manchestereveningnews.co.uk/in...</td>\n",
       "      <td>manchestereveningnews</td>\n",
       "      <td>6158</td>\n",
       "      <td>[united kingdom]</td>\n",
       "      <td>[top]</td>\n",
       "      <td>english</td>\n",
       "    </tr>\n",
       "  </tbody>\n",
       "</table>\n",
       "</div>"
      ],
      "text/plain": [
       "                         article_id  \\\n",
       "0  aaf4f0424496a850f9695bdb3dd7f5ae   \n",
       "1  41cd2f78b845a89e687f6955a68f54eb   \n",
       "2  b2dcdd4ce61ea746cfeec7b19790248c   \n",
       "3  7e88dba2847f110d8285b743fb485044   \n",
       "4  406113a9bf227dc346e6fa3de9febdcc   \n",
       "\n",
       "                                               title  \\\n",
       "0  Harry Styles confirmed to have shaved his head...   \n",
       "1  Olivia Attwood breaks her silence on rumours o...   \n",
       "2  Premier League fans hail 'guaranteed entertain...   \n",
       "3  Micah Richards and Daniel Sturridge burst into...   \n",
       "4  ITV Big Brother’s Trish issues an apology afte...   \n",
       "\n",
       "                                                link  \\\n",
       "0  https://metro.co.uk/2023/11/12/harry-styles-co...   \n",
       "1  https://www.dailymail.co.uk/tvshowbiz/article-...   \n",
       "2  https://www.dailystar.co.uk/sport/football/pre...   \n",
       "3  https://www.dailystar.co.uk/sport/football/mic...   \n",
       "4  https://www.manchestereveningnews.co.uk/news/t...   \n",
       "\n",
       "                                 keywords  \\\n",
       "0  [Entertainment, Showbiz, Harry Styles]   \n",
       "1                                    None   \n",
       "2                                 [Sport]   \n",
       "3                              [Football]   \n",
       "4                                    [TV]   \n",
       "\n",
       "                                             creator video_url  \\\n",
       "0                                  [Emily Bashforth]      None   \n",
       "1                                               None      None   \n",
       "2                                               None      None   \n",
       "3                                               None      None   \n",
       "4  [newsdesk@men-news.co.uk (Amelia Ward, Liv Cla...      None   \n",
       "\n",
       "                                         description  \\\n",
       "0                                 Fans are in shock.   \n",
       "1  Olivia Attwood has broken her silence on rumou...   \n",
       "2  Premier League fans have joked that it's guara...   \n",
       "3  Sky Sports duo Micah Richards and Daniel Sturr...   \n",
       "4  Trish was evicted alongside Chanelle on Friday...   \n",
       "\n",
       "                                             content              pubDate  \\\n",
       "0  What’s that we can hear? Oh, just the sound of...  2023-11-12 19:07:18   \n",
       "1  Olivia Attwood breaks her silence on rumours o...  2023-11-12 18:57:34   \n",
       "2  The term \"Barclays\" has long-since risen above...  2023-11-12 18:34:03   \n",
       "3  Sky Sports pair and have been called 'box offi...  2023-11-12 18:06:30   \n",
       "4  ITV Big Brother’s Trish has issued an apology ...  2023-11-12 17:31:10   \n",
       "\n",
       "                                           image_url              source_id  \\\n",
       "0                                               None                  metro   \n",
       "1  https://i.dailymail.co.uk/1s/2023/11/12/18/777...            dailymailuk   \n",
       "2  https://i2-prod.dailystar.co.uk/incoming/artic...              dailystar   \n",
       "3  https://i2-prod.dailystar.co.uk/incoming/artic...              dailystar   \n",
       "4  https://i2-prod.manchestereveningnews.co.uk/in...  manchestereveningnews   \n",
       "\n",
       "   source_priority           country         category language  \n",
       "0             1797  [united kingdom]  [entertainment]  english  \n",
       "1              135  [united kingdom]  [entertainment]  english  \n",
       "2             3076  [united kingdom]         [sports]  english  \n",
       "3             3076  [united kingdom]            [top]  english  \n",
       "4             6158  [united kingdom]            [top]  english  "
      ]
     },
     "execution_count": 56,
     "metadata": {},
     "output_type": "execute_result"
    }
   ],
   "source": [
    "# Assuming the JSON data is a list of dictionaries\n",
    "df = pd.DataFrame(news)\n",
    "df.head()"
   ]
  },
  {
   "cell_type": "markdown",
   "id": "cd2f82ba",
   "metadata": {},
   "source": [
    "## Step 5: Basic Data Analysis\n",
    "We will perform some basic analysis on the data using Pandas.\n",
    "\n",
    "Check the structure of the data using df.head() and df.info()."
   ]
  },
  {
   "cell_type": "code",
   "execution_count": 58,
   "id": "717a211a",
   "metadata": {},
   "outputs": [
    {
     "data": {
      "text/html": [
       "<div>\n",
       "<style scoped>\n",
       "    .dataframe tbody tr th:only-of-type {\n",
       "        vertical-align: middle;\n",
       "    }\n",
       "\n",
       "    .dataframe tbody tr th {\n",
       "        vertical-align: top;\n",
       "    }\n",
       "\n",
       "    .dataframe thead th {\n",
       "        text-align: right;\n",
       "    }\n",
       "</style>\n",
       "<table border=\"1\" class=\"dataframe\">\n",
       "  <thead>\n",
       "    <tr style=\"text-align: right;\">\n",
       "      <th></th>\n",
       "      <th>article_id</th>\n",
       "      <th>title</th>\n",
       "      <th>link</th>\n",
       "      <th>keywords</th>\n",
       "      <th>creator</th>\n",
       "      <th>video_url</th>\n",
       "      <th>description</th>\n",
       "      <th>content</th>\n",
       "      <th>pubDate</th>\n",
       "      <th>image_url</th>\n",
       "      <th>source_id</th>\n",
       "      <th>source_priority</th>\n",
       "      <th>country</th>\n",
       "      <th>category</th>\n",
       "      <th>language</th>\n",
       "    </tr>\n",
       "  </thead>\n",
       "  <tbody>\n",
       "    <tr>\n",
       "      <th>0</th>\n",
       "      <td>aaf4f0424496a850f9695bdb3dd7f5ae</td>\n",
       "      <td>Harry Styles confirmed to have shaved his head...</td>\n",
       "      <td>https://metro.co.uk/2023/11/12/harry-styles-co...</td>\n",
       "      <td>[Entertainment, Showbiz, Harry Styles]</td>\n",
       "      <td>[Emily Bashforth]</td>\n",
       "      <td>None</td>\n",
       "      <td>Fans are in shock.</td>\n",
       "      <td>What’s that we can hear? Oh, just the sound of...</td>\n",
       "      <td>2023-11-12 19:07:18</td>\n",
       "      <td>None</td>\n",
       "      <td>metro</td>\n",
       "      <td>1797</td>\n",
       "      <td>[united kingdom]</td>\n",
       "      <td>[entertainment]</td>\n",
       "      <td>english</td>\n",
       "    </tr>\n",
       "    <tr>\n",
       "      <th>1</th>\n",
       "      <td>41cd2f78b845a89e687f6955a68f54eb</td>\n",
       "      <td>Olivia Attwood breaks her silence on rumours o...</td>\n",
       "      <td>https://www.dailymail.co.uk/tvshowbiz/article-...</td>\n",
       "      <td>None</td>\n",
       "      <td>None</td>\n",
       "      <td>None</td>\n",
       "      <td>Olivia Attwood has broken her silence on rumou...</td>\n",
       "      <td>Olivia Attwood breaks her silence on rumours o...</td>\n",
       "      <td>2023-11-12 18:57:34</td>\n",
       "      <td>https://i.dailymail.co.uk/1s/2023/11/12/18/777...</td>\n",
       "      <td>dailymailuk</td>\n",
       "      <td>135</td>\n",
       "      <td>[united kingdom]</td>\n",
       "      <td>[entertainment]</td>\n",
       "      <td>english</td>\n",
       "    </tr>\n",
       "    <tr>\n",
       "      <th>2</th>\n",
       "      <td>b2dcdd4ce61ea746cfeec7b19790248c</td>\n",
       "      <td>Premier League fans hail 'guaranteed entertain...</td>\n",
       "      <td>https://www.dailystar.co.uk/sport/football/pre...</td>\n",
       "      <td>[Sport]</td>\n",
       "      <td>None</td>\n",
       "      <td>None</td>\n",
       "      <td>Premier League fans have joked that it's guara...</td>\n",
       "      <td>The term \"Barclays\" has long-since risen above...</td>\n",
       "      <td>2023-11-12 18:34:03</td>\n",
       "      <td>https://i2-prod.dailystar.co.uk/incoming/artic...</td>\n",
       "      <td>dailystar</td>\n",
       "      <td>3076</td>\n",
       "      <td>[united kingdom]</td>\n",
       "      <td>[sports]</td>\n",
       "      <td>english</td>\n",
       "    </tr>\n",
       "    <tr>\n",
       "      <th>3</th>\n",
       "      <td>7e88dba2847f110d8285b743fb485044</td>\n",
       "      <td>Micah Richards and Daniel Sturridge burst into...</td>\n",
       "      <td>https://www.dailystar.co.uk/sport/football/mic...</td>\n",
       "      <td>[Football]</td>\n",
       "      <td>None</td>\n",
       "      <td>None</td>\n",
       "      <td>Sky Sports duo Micah Richards and Daniel Sturr...</td>\n",
       "      <td>Sky Sports pair and have been called 'box offi...</td>\n",
       "      <td>2023-11-12 18:06:30</td>\n",
       "      <td>https://i2-prod.dailystar.co.uk/incoming/artic...</td>\n",
       "      <td>dailystar</td>\n",
       "      <td>3076</td>\n",
       "      <td>[united kingdom]</td>\n",
       "      <td>[top]</td>\n",
       "      <td>english</td>\n",
       "    </tr>\n",
       "    <tr>\n",
       "      <th>4</th>\n",
       "      <td>406113a9bf227dc346e6fa3de9febdcc</td>\n",
       "      <td>ITV Big Brother’s Trish issues an apology afte...</td>\n",
       "      <td>https://www.manchestereveningnews.co.uk/news/t...</td>\n",
       "      <td>[TV]</td>\n",
       "      <td>[newsdesk@men-news.co.uk (Amelia Ward, Liv Cla...</td>\n",
       "      <td>None</td>\n",
       "      <td>Trish was evicted alongside Chanelle on Friday...</td>\n",
       "      <td>ITV Big Brother’s Trish has issued an apology ...</td>\n",
       "      <td>2023-11-12 17:31:10</td>\n",
       "      <td>https://i2-prod.manchestereveningnews.co.uk/in...</td>\n",
       "      <td>manchestereveningnews</td>\n",
       "      <td>6158</td>\n",
       "      <td>[united kingdom]</td>\n",
       "      <td>[top]</td>\n",
       "      <td>english</td>\n",
       "    </tr>\n",
       "  </tbody>\n",
       "</table>\n",
       "</div>"
      ],
      "text/plain": [
       "                         article_id  \\\n",
       "0  aaf4f0424496a850f9695bdb3dd7f5ae   \n",
       "1  41cd2f78b845a89e687f6955a68f54eb   \n",
       "2  b2dcdd4ce61ea746cfeec7b19790248c   \n",
       "3  7e88dba2847f110d8285b743fb485044   \n",
       "4  406113a9bf227dc346e6fa3de9febdcc   \n",
       "\n",
       "                                               title  \\\n",
       "0  Harry Styles confirmed to have shaved his head...   \n",
       "1  Olivia Attwood breaks her silence on rumours o...   \n",
       "2  Premier League fans hail 'guaranteed entertain...   \n",
       "3  Micah Richards and Daniel Sturridge burst into...   \n",
       "4  ITV Big Brother’s Trish issues an apology afte...   \n",
       "\n",
       "                                                link  \\\n",
       "0  https://metro.co.uk/2023/11/12/harry-styles-co...   \n",
       "1  https://www.dailymail.co.uk/tvshowbiz/article-...   \n",
       "2  https://www.dailystar.co.uk/sport/football/pre...   \n",
       "3  https://www.dailystar.co.uk/sport/football/mic...   \n",
       "4  https://www.manchestereveningnews.co.uk/news/t...   \n",
       "\n",
       "                                 keywords  \\\n",
       "0  [Entertainment, Showbiz, Harry Styles]   \n",
       "1                                    None   \n",
       "2                                 [Sport]   \n",
       "3                              [Football]   \n",
       "4                                    [TV]   \n",
       "\n",
       "                                             creator video_url  \\\n",
       "0                                  [Emily Bashforth]      None   \n",
       "1                                               None      None   \n",
       "2                                               None      None   \n",
       "3                                               None      None   \n",
       "4  [newsdesk@men-news.co.uk (Amelia Ward, Liv Cla...      None   \n",
       "\n",
       "                                         description  \\\n",
       "0                                 Fans are in shock.   \n",
       "1  Olivia Attwood has broken her silence on rumou...   \n",
       "2  Premier League fans have joked that it's guara...   \n",
       "3  Sky Sports duo Micah Richards and Daniel Sturr...   \n",
       "4  Trish was evicted alongside Chanelle on Friday...   \n",
       "\n",
       "                                             content              pubDate  \\\n",
       "0  What’s that we can hear? Oh, just the sound of...  2023-11-12 19:07:18   \n",
       "1  Olivia Attwood breaks her silence on rumours o...  2023-11-12 18:57:34   \n",
       "2  The term \"Barclays\" has long-since risen above...  2023-11-12 18:34:03   \n",
       "3  Sky Sports pair and have been called 'box offi...  2023-11-12 18:06:30   \n",
       "4  ITV Big Brother’s Trish has issued an apology ...  2023-11-12 17:31:10   \n",
       "\n",
       "                                           image_url              source_id  \\\n",
       "0                                               None                  metro   \n",
       "1  https://i.dailymail.co.uk/1s/2023/11/12/18/777...            dailymailuk   \n",
       "2  https://i2-prod.dailystar.co.uk/incoming/artic...              dailystar   \n",
       "3  https://i2-prod.dailystar.co.uk/incoming/artic...              dailystar   \n",
       "4  https://i2-prod.manchestereveningnews.co.uk/in...  manchestereveningnews   \n",
       "\n",
       "   source_priority           country         category language  \n",
       "0             1797  [united kingdom]  [entertainment]  english  \n",
       "1              135  [united kingdom]  [entertainment]  english  \n",
       "2             3076  [united kingdom]         [sports]  english  \n",
       "3             3076  [united kingdom]            [top]  english  \n",
       "4             6158  [united kingdom]            [top]  english  "
      ]
     },
     "execution_count": 58,
     "metadata": {},
     "output_type": "execute_result"
    }
   ],
   "source": [
    "# See the first 5 row of the data structure\n",
    "df.head()"
   ]
  },
  {
   "cell_type": "code",
   "execution_count": 59,
   "id": "d62d7d13",
   "metadata": {},
   "outputs": [
    {
     "name": "stdout",
     "output_type": "stream",
     "text": [
      "<class 'pandas.core.frame.DataFrame'>\n",
      "RangeIndex: 10 entries, 0 to 9\n",
      "Data columns (total 15 columns):\n",
      " #   Column           Non-Null Count  Dtype \n",
      "---  ------           --------------  ----- \n",
      " 0   article_id       10 non-null     object\n",
      " 1   title            10 non-null     object\n",
      " 2   link             10 non-null     object\n",
      " 3   keywords         5 non-null      object\n",
      " 4   creator          2 non-null      object\n",
      " 5   video_url        0 non-null      object\n",
      " 6   description      10 non-null     object\n",
      " 7   content          10 non-null     object\n",
      " 8   pubDate          10 non-null     object\n",
      " 9   image_url        8 non-null      object\n",
      " 10  source_id        10 non-null     object\n",
      " 11  source_priority  10 non-null     int64 \n",
      " 12  country          10 non-null     object\n",
      " 13  category         10 non-null     object\n",
      " 14  language         10 non-null     object\n",
      "dtypes: int64(1), object(14)\n",
      "memory usage: 1.3+ KB\n"
     ]
    }
   ],
   "source": [
    "# Check the data information\n",
    "df.info()"
   ]
  },
  {
   "cell_type": "markdown",
   "id": "64d73e1f",
   "metadata": {},
   "source": [
    "An analysis of the DataFrame revealed 15 columns, 10 rows, and four columns with non-null values. Only one variable is of integer data type, while the remaining variables are of object type."
   ]
  },
  {
   "cell_type": "code",
   "execution_count": 60,
   "id": "89b7ccc3",
   "metadata": {},
   "outputs": [
    {
     "data": {
      "text/plain": [
       "article_id         object\n",
       "title              object\n",
       "link               object\n",
       "keywords           object\n",
       "creator            object\n",
       "video_url          object\n",
       "description        object\n",
       "content            object\n",
       "pubDate            object\n",
       "image_url          object\n",
       "source_id          object\n",
       "source_priority     int64\n",
       "country            object\n",
       "category           object\n",
       "language           object\n",
       "dtype: object"
      ]
     },
     "execution_count": 60,
     "metadata": {},
     "output_type": "execute_result"
    }
   ],
   "source": [
    "df.dtypes"
   ]
  },
  {
   "cell_type": "code",
   "execution_count": 64,
   "id": "9a911128",
   "metadata": {},
   "outputs": [
    {
     "data": {
      "text/plain": [
       "Index(['article_id', 'title', 'link', 'keywords', 'creator', 'video_url',\n",
       "       'description', 'content', 'pubDate', 'image_url', 'source_id',\n",
       "       'source_priority', 'country', 'category', 'language'],\n",
       "      dtype='object')"
      ]
     },
     "execution_count": 64,
     "metadata": {},
     "output_type": "execute_result"
    }
   ],
   "source": [
    "# see the columns of the dataframe\n",
    "df.columns"
   ]
  },
  {
   "cell_type": "markdown",
   "id": "837ffe90",
   "metadata": {},
   "source": [
    "Since some columns are not useful for our analysis, we will exclude them and create a new DataFrame with only the relevant variables."
   ]
  },
  {
   "cell_type": "code",
   "execution_count": 71,
   "id": "b19e9991",
   "metadata": {},
   "outputs": [
    {
     "data": {
      "text/html": [
       "<div>\n",
       "<style scoped>\n",
       "    .dataframe tbody tr th:only-of-type {\n",
       "        vertical-align: middle;\n",
       "    }\n",
       "\n",
       "    .dataframe tbody tr th {\n",
       "        vertical-align: top;\n",
       "    }\n",
       "\n",
       "    .dataframe thead th {\n",
       "        text-align: right;\n",
       "    }\n",
       "</style>\n",
       "<table border=\"1\" class=\"dataframe\">\n",
       "  <thead>\n",
       "    <tr style=\"text-align: right;\">\n",
       "      <th></th>\n",
       "      <th>title</th>\n",
       "      <th>creator</th>\n",
       "      <th>pubDate</th>\n",
       "      <th>source_id</th>\n",
       "      <th>source_priority</th>\n",
       "      <th>country</th>\n",
       "      <th>category</th>\n",
       "      <th>language</th>\n",
       "    </tr>\n",
       "  </thead>\n",
       "  <tbody>\n",
       "    <tr>\n",
       "      <th>0</th>\n",
       "      <td>Harry Styles confirmed to have shaved his head...</td>\n",
       "      <td>[Emily Bashforth]</td>\n",
       "      <td>2023-11-12 19:07:18</td>\n",
       "      <td>metro</td>\n",
       "      <td>1797</td>\n",
       "      <td>[united kingdom]</td>\n",
       "      <td>[entertainment]</td>\n",
       "      <td>english</td>\n",
       "    </tr>\n",
       "    <tr>\n",
       "      <th>1</th>\n",
       "      <td>Olivia Attwood breaks her silence on rumours o...</td>\n",
       "      <td>None</td>\n",
       "      <td>2023-11-12 18:57:34</td>\n",
       "      <td>dailymailuk</td>\n",
       "      <td>135</td>\n",
       "      <td>[united kingdom]</td>\n",
       "      <td>[entertainment]</td>\n",
       "      <td>english</td>\n",
       "    </tr>\n",
       "    <tr>\n",
       "      <th>2</th>\n",
       "      <td>Premier League fans hail 'guaranteed entertain...</td>\n",
       "      <td>None</td>\n",
       "      <td>2023-11-12 18:34:03</td>\n",
       "      <td>dailystar</td>\n",
       "      <td>3076</td>\n",
       "      <td>[united kingdom]</td>\n",
       "      <td>[sports]</td>\n",
       "      <td>english</td>\n",
       "    </tr>\n",
       "    <tr>\n",
       "      <th>3</th>\n",
       "      <td>Micah Richards and Daniel Sturridge burst into...</td>\n",
       "      <td>None</td>\n",
       "      <td>2023-11-12 18:06:30</td>\n",
       "      <td>dailystar</td>\n",
       "      <td>3076</td>\n",
       "      <td>[united kingdom]</td>\n",
       "      <td>[top]</td>\n",
       "      <td>english</td>\n",
       "    </tr>\n",
       "    <tr>\n",
       "      <th>4</th>\n",
       "      <td>ITV Big Brother’s Trish issues an apology afte...</td>\n",
       "      <td>[newsdesk@men-news.co.uk (Amelia Ward, Liv Cla...</td>\n",
       "      <td>2023-11-12 17:31:10</td>\n",
       "      <td>manchestereveningnews</td>\n",
       "      <td>6158</td>\n",
       "      <td>[united kingdom]</td>\n",
       "      <td>[top]</td>\n",
       "      <td>english</td>\n",
       "    </tr>\n",
       "  </tbody>\n",
       "</table>\n",
       "</div>"
      ],
      "text/plain": [
       "                                               title  \\\n",
       "0  Harry Styles confirmed to have shaved his head...   \n",
       "1  Olivia Attwood breaks her silence on rumours o...   \n",
       "2  Premier League fans hail 'guaranteed entertain...   \n",
       "3  Micah Richards and Daniel Sturridge burst into...   \n",
       "4  ITV Big Brother’s Trish issues an apology afte...   \n",
       "\n",
       "                                             creator              pubDate  \\\n",
       "0                                  [Emily Bashforth]  2023-11-12 19:07:18   \n",
       "1                                               None  2023-11-12 18:57:34   \n",
       "2                                               None  2023-11-12 18:34:03   \n",
       "3                                               None  2023-11-12 18:06:30   \n",
       "4  [newsdesk@men-news.co.uk (Amelia Ward, Liv Cla...  2023-11-12 17:31:10   \n",
       "\n",
       "               source_id  source_priority           country         category  \\\n",
       "0                  metro             1797  [united kingdom]  [entertainment]   \n",
       "1            dailymailuk              135  [united kingdom]  [entertainment]   \n",
       "2              dailystar             3076  [united kingdom]         [sports]   \n",
       "3              dailystar             3076  [united kingdom]            [top]   \n",
       "4  manchestereveningnews             6158  [united kingdom]            [top]   \n",
       "\n",
       "  language  \n",
       "0  english  \n",
       "1  english  \n",
       "2  english  \n",
       "3  english  \n",
       "4  english  "
      ]
     },
     "execution_count": 71,
     "metadata": {},
     "output_type": "execute_result"
    }
   ],
   "source": [
    "# Select the columns in a list which we will use \n",
    "selected_columns = ['title', 'creator', 'pubDate', 'source_id',\n",
    "       'source_priority', 'country', 'category', 'language']\n",
    "\n",
    "# Create a new dataframe name cleaned dataframe with thos new varibales selected\n",
    "cleaned_df = df[selected_columns]\n",
    "\n",
    "# Show the first five rows of newly created dataframe\n",
    "cleaned_df.head()"
   ]
  },
  {
   "cell_type": "code",
   "execution_count": 69,
   "id": "e9d2fac4",
   "metadata": {},
   "outputs": [],
   "source": [
    "# Use the filterwarnings function to ignore warnings\n",
    "warnings.filterwarnings(\"ignore\")"
   ]
  },
  {
   "cell_type": "code",
   "execution_count": 68,
   "id": "a8f6f78a",
   "metadata": {},
   "outputs": [
    {
     "data": {
      "image/png": "[encoded data removed]",
      "text/plain": [
       "<Figure size 1000x400 with 1 Axes>"
      ]
     },
     "metadata": {},
     "output_type": "display_data"
    }
   ],
   "source": [
    "# Create a bar chart for source priority distribution\n",
    "sns.set(style=\"whitegrid\")\n",
    "plt.figure(figsize=(10, 4))\n",
    "sns.barplot(x=\"source_priority\", y=\"source_id\", data=cleaned_df)\n",
    "plt.title(\"Source Priority Distribution\")\n",
    "plt.xlabel(\"Source Priority\")\n",
    "plt.ylabel(\"Source ID\")\n",
    "plt.show();"
   ]
  },
  {
   "cell_type": "markdown",
   "id": "94cc524d",
   "metadata": {},
   "source": [
    "Manchesterevening live is the highest number of source_priority. Its very high compare to others source_ID."
   ]
  },
  {
   "cell_type": "code",
   "execution_count": 72,
   "id": "821f60f8",
   "metadata": {},
   "outputs": [
    {
     "data": {
      "image/png": "[encoded data removed]",
      "text/plain": [
       "<Figure size 1200x600 with 1 Axes>"
      ]
     },
     "metadata": {},
     "output_type": "display_data"
    }
   ],
   "source": [
    "# Create a Time series line chart for publication date\n",
    "\n",
    "# Convert the data type \n",
    "cleaned_df['pubDate'] = pd.to_datetime(cleaned_df['pubDate'])\n",
    "\n",
    "plt.figure(figsize=(12, 6))\n",
    "plt.plot(cleaned_df['pubDate'], cleaned_df['source_id'], marker='o')\n",
    "plt.title(\"Publication Date Trends\")\n",
    "plt.xlabel(\"Publication Date\")\n",
    "plt.ylabel(\"Source ID\")\n",
    "plt.show();"
   ]
  },
  {
   "cell_type": "code",
   "execution_count": 73,
   "id": "301a4b3e",
   "metadata": {},
   "outputs": [],
   "source": [
    "# Convert lists to strings and remove square brackets\n",
    "cleaned_df['country'] = cleaned_df['country'].astype(str).str.strip('[]')"
   ]
  },
  {
   "cell_type": "code",
   "execution_count": 74,
   "id": "0b46b5ad",
   "metadata": {},
   "outputs": [
    {
     "data": {
      "image/png": "[encoded data removed]",
      "text/plain": [
       "<Figure size 1200x600 with 1 Axes>"
      ]
     },
     "metadata": {},
     "output_type": "display_data"
    }
   ],
   "source": [
    "# Show a Countplot for countries distribution\n",
    "plt.figure(figsize=(12, 6))\n",
    "sns.countplot(x=\"country\", data=cleaned_df)\n",
    "plt.title(\"Distribution of Data by Country\")\n",
    "plt.xlabel(\"Country\")\n",
    "plt.ylabel(\"Count\")\n",
    "plt.show();"
   ]
  },
  {
   "cell_type": "markdown",
   "id": "263e3ed6",
   "metadata": {},
   "source": [
    "This shows United Kingdom has the highest news count more than other country like India"
   ]
  },
  {
   "cell_type": "code",
   "execution_count": 75,
   "id": "575d3073",
   "metadata": {},
   "outputs": [],
   "source": [
    "# Convert lists to strings and remove square brackets\n",
    "cleaned_df['category'] = cleaned_df['category'].astype(str).str.strip('[]')"
   ]
  },
  {
   "cell_type": "code",
   "execution_count": 76,
   "id": "82b449e1",
   "metadata": {},
   "outputs": [
    {
     "data": {
      "image/png": "[encoded data removed]",
      "text/plain": [
       "<Figure size 800x400 with 1 Axes>"
      ]
     },
     "metadata": {},
     "output_type": "display_data"
    }
   ],
   "source": [
    "# Horizontal bar chart for categories\n",
    "plt.figure(figsize=(8, 4))\n",
    "sns.countplot(y=\"category\", data=cleaned_df, order=cleaned_df['category'].value_counts().index)\n",
    "plt.title(\"Article Distribution Across Categories\")\n",
    "plt.xlabel(\"Count\")\n",
    "plt.ylabel(\"Category\")\n",
    "plt.show();\n"
   ]
  },
  {
   "cell_type": "markdown",
   "id": "de6d50c7",
   "metadata": {},
   "source": [
    "Based on categories, Sports cover most of the news than entertainment."
   ]
  },
  {
   "cell_type": "markdown",
   "id": "c92128b7",
   "metadata": {},
   "source": [
    "## Summary:\n",
    "Learning new skills in my career is challenging yet rewarding. The project provided an opportunity to explore text data analysis, web data extraction using API, and the Python libraries Beautiful Soup and Requests. The text extraction and regex-based data cleaning process presented significant challenges. However, through this task, I gained valuable experience and developed my skills under the guidance of my esteemed professor. The visualization of the news dataset in the web API section provided insights into the news spread across various categories, such as sports, entertainment, language, country, and category. This initial analysis yielded valuable visual insights."
   ]
  },
  {
   "cell_type": "code",
   "execution_count": null,
   "id": "382e25aa",
   "metadata": {},
   "outputs": [],
   "source": []
  }
 ],
 "metadata": {
  "kernelspec": {
   "display_name": "Python 3 (ipykernel)",
   "language": "python",
   "name": "python3"
  },
  "language_info": {
   "codemirror_mode": {
    "name": "ipython",
    "version": 3
   },
   "file_extension": ".py",
   "mimetype": "text/x-python",
   "name": "python",
   "nbconvert_exporter": "python",
   "pygments_lexer": "ipython3",
   "version": "3.11.4"
  }
 },
 "nbformat": 4,
 "nbformat_minor": 5
}
