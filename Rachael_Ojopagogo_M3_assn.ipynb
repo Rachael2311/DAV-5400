{
 "cells": [
  {
   "cell_type": "markdown",
   "id": "ef807d5b",
   "metadata": {},
   "source": [
    "# Task 1 \n",
    "\n",
    "print(np.setxor1d(array1, array2)): The np.setxor1d function returns the sorted symmetric difference between the two input arrays, which consists of elements that are in either ‘array1’ or ‘array2’ but not in both"
   ]
  },
  {
   "cell_type": "code",
   "execution_count": 74,
   "id": "7a00e203",
   "metadata": {},
   "outputs": [
    {
     "name": "stdout",
     "output_type": "stream",
     "text": [
      "Unique values that are in only one (not both) of the input arrays:\n",
      "[ 1  3  5  6  7  8  9 10]\n"
     ]
    }
   ],
   "source": [
    "import numpy as np\n",
    "a = np.array([1, 2, 3, 2, 3, 4, 3, 4, 5, 6])\n",
    "b = np.array([7, 2, 10, 2, 7, 4, 9, 4, 9, 8])\n",
    "print(\"Unique values that are in only one (not both) of the input arrays:\")\n",
    "print(np.setxor1d(a, b))"
   ]
  },
  {
   "cell_type": "markdown",
   "id": "8143a039",
   "metadata": {},
   "source": [
    "# Task 2\n",
    "Create a NumPy array of integers from 1 to 20\n",
    "Reshape the array into a 4x5 grid"
   ]
  },
  {
   "cell_type": "code",
   "execution_count": 18,
   "id": "e5de931b",
   "metadata": {},
   "outputs": [
    {
     "name": "stdout",
     "output_type": "stream",
     "text": [
      "[[ 1  2  3  4  5]\n",
      " [ 6  7  8  9 10]\n",
      " [11 12 13 14 15]\n",
      " [16 17 18 19 20]]\n"
     ]
    }
   ],
   "source": [
    "import numpy as np\n",
    "array = np.arange(1, 21)\n",
    "array = array.reshape(4,5)\n",
    "print(array)"
   ]
  },
  {
   "cell_type": "markdown",
   "id": "468b415f",
   "metadata": {},
   "source": [
    "# Task 3\n",
    " Define the variable set_dff\n",
    "\n",
    " Print the variable set_diff"
   ]
  },
  {
   "cell_type": "code",
   "execution_count": 27,
   "id": "accab7a7",
   "metadata": {},
   "outputs": [
    {
     "name": "stdout",
     "output_type": "stream",
     "text": [
      "[ 4  6 11 14 19 12  5  7 15  3  1  8]\n"
     ]
    }
   ],
   "source": [
    "a = np.array([12, 5, 7, 15, 3, 1, 8])\n",
    "b = np.array([14, 6, 3, 11, 19, 12, 5, 3, 4])\n",
    "set_diff = np.setdiff1d(b, a)\n",
    "print(np.append(set_diff, a))"
   ]
  },
  {
   "cell_type": "markdown",
   "id": "4ec9cd8f",
   "metadata": {},
   "source": [
    "# Another approach to solving Task 3\n",
    "Create a set of all elements in array b\n",
    "create a set() function\n",
    "Create a new array a that contains all elements of the original array a and any elements of array b that are not already in array a, using the np.append() function and a list comprehension."
   ]
  },
  {
   "cell_type": "code",
   "execution_count": 28,
   "id": "5534ce9a",
   "metadata": {},
   "outputs": [
    {
     "name": "stdout",
     "output_type": "stream",
     "text": [
      "[12  5  7 15  3  1  8  4  6 11 14 19]\n"
     ]
    }
   ],
   "source": [
    "a = np.array([12, 5, 7, 15, 3, 1, 8])\n",
    "b = np.array([14, 6, 3, 11, 19, 12, 5, 3, 4])\n",
    "b_set = set(b)\n",
    "a = np.append(a, [x for x in b_set if x not in a])\n",
    "print(a)"
   ]
  },
  {
   "cell_type": "markdown",
   "id": "bc59bf35",
   "metadata": {},
   "source": [
    "# Task 4\n",
    "Transform the 4x5 array shown above in Problem 2.\n",
    "\n",
    "The numpy. ravel() function is used to create a contiguous flattened array. A 1-D array, containing the elements of the input, is returned."
   ]
  },
  {
   "cell_type": "code",
   "execution_count": 38,
   "id": "d0fa40c2",
   "metadata": {},
   "outputs": [
    {
     "name": "stdout",
     "output_type": "stream",
     "text": [
      "Flattened array: [ 1  2  3  4  5  6  7  8  9 10 11 12 13 14 15 16 17 18 19 20]\n"
     ]
    }
   ],
   "source": [
    "import numpy as np\n",
    "x = np.array([[ 1, 2, 3, 4,  5],\n",
    "             [ 6, 7, 8,  9, 10],\n",
    "             [11, 12, 13, 14, 15],\n",
    "             [16, 17, 18, 19, 20]])\n",
    "y = np.ravel(x)\n",
    "print(\"Flattened array:\", y)"
   ]
  },
  {
   "cell_type": "markdown",
   "id": "9570b28b",
   "metadata": {},
   "source": [
    "# Task 5\n"
   ]
  },
  {
   "cell_type": "code",
   "execution_count": 4,
   "id": "44cfc73d",
   "metadata": {},
   "outputs": [
    {
     "data": {
      "text/plain": [
       "numpy.ndarray"
      ]
     },
     "execution_count": 4,
     "metadata": {},
     "output_type": "execute_result"
    }
   ],
   "source": [
    "import pandas\n",
    "import numpy as np\n",
    "# suppress scientific notation\n",
    "np.set_printoptions(suppress = True)\n",
    "# read the data file from GitHub and convert to a NumPy ndarray object\n",
    "# be sure to replace the ‘link_to_raw_copy of data file in your Github Repository’ placeholder shown below\n",
    "# with a link to the “raw” version of the file you pushed to your online GitHub repository\n",
    "nyc_water = pandas.read_csv('https://raw.githubusercontent.com/Rachael2311/DAV-5400/main/M3_Data.csv').to_numpy()\n",
    "# verify you have an\n",
    "type(nyc_water)"
   ]
  },
  {
   "cell_type": "markdown",
   "id": "6ede22b3",
   "metadata": {},
   "source": [
    "# Task 5(i)\n",
    "Using argmax() to find the max per capital daily water consumption"
   ]
  },
  {
   "cell_type": "code",
   "execution_count": 52,
   "id": "9c787fe5",
   "metadata": {},
   "outputs": [
    {
     "data": {
      "text/plain": [
       "1979.0"
      ]
     },
     "execution_count": 52,
     "metadata": {},
     "output_type": "execute_result"
    }
   ],
   "source": [
    "\n",
    "argmax = np.argmax(nyc_water[:, -1])\n",
    "argmax\n",
    "nyc_water[argmax][0]"
   ]
  },
  {
   "cell_type": "markdown",
   "id": "9f405240",
   "metadata": {},
   "source": [
    "# Another approach to solving Task 5(i)"
   ]
  },
  {
   "cell_type": "code",
   "execution_count": 55,
   "id": "f8c01d9a",
   "metadata": {},
   "outputs": [
    {
     "name": "stdout",
     "output_type": "stream",
     "text": [
      "Year with maximum per capita daily water consumption: 1979.0\n"
     ]
    }
   ],
   "source": [
    "\n",
    "max_year = nyc_water[nyc_water[:, 2] == np.max(nyc_water[:, 2])]\n",
    "\n",
    "# Print the year with the maximum per capita daily water consumption\n",
    "print(\"Year with maximum per capita daily water consumption:\", max_year[0][0])"
   ]
  },
  {
   "cell_type": "markdown",
   "id": "c2534da8",
   "metadata": {},
   "source": [
    "# Task 5(ii)\n",
    "\n",
    "Add a new column to the Numpy array containing the annual change in the population\n",
    "Calculate the annual change in the population for each year except for the first year"
   ]
  },
  {
   "cell_type": "code",
   "execution_count": 8,
   "id": "efe3671c",
   "metadata": {},
   "outputs": [
    {
     "name": "stdout",
     "output_type": "stream",
     "text": [
      "[[   1979.  7102100.     1512.      213.        0. ]\n",
      " [   1980.  7071639.     1506.      213.   -30461. ]\n",
      " [   1981.  7089241.     1309.      185.   -12859. ]\n",
      " [   1982.  7109105.     1382.      194.     7005. ]\n",
      " [   1983.  7181224.     1424.      198.    79124. ]\n",
      " [   1984.  7234514.     1465.      203.   132414. ]\n",
      " [   1985.  7274054.     1326.      182.   171954. ]\n",
      " [   1986.  7319246.     1351.      185.   217146. ]\n",
      " [   1987.  7342476.     1447.      197.   240376. ]\n",
      " [   1988.  7353719.     1484.      202.   251619. ]\n",
      " [   1989.  7344175.     1402.      191.   242075. ]\n",
      " [   1990.  7335650.     1424.      194.   233550. ]\n",
      " [   1991.  7374501.     1469.      199.   272401. ]\n",
      " [   1992.  7428944.     1369.      184.   326844. ]\n",
      " [   1993.  7506166.     1368.5     182.   404066. ]\n",
      " [   1994.  7570458.     1357.7     179.   468358. ]\n",
      " [   1995.  7633040.     1325.7     174.   530940. ]\n",
      " [   1996.  7697812.     1297.9     169.   595712. ]\n",
      " [   1997.  7773443.     1205.5     155.   671343. ]\n",
      " [   1998.  7858259.     1219.5     155.   756159. ]\n",
      " [   1999.  7947660.     1237.2     156.   845560. ]\n",
      " [   2000.  8008278.     1240.4     155.   906178. ]\n",
      " [   2001.  8024963.5    1184.      148.   922863.5]\n",
      " [   2002.  8041649.     1135.6     141.   939549. ]\n",
      " [   2003.  8058334.5    1093.7     136.   956234.5]\n",
      " [   2004.  8075020.     1099.5     136.   972920. ]\n",
      " [   2005.  8091705.5    1138.      141.   989605.5]\n",
      " [   2006.  8108391.     1069.      132.  1006291. ]\n",
      " [   2007.  8125076.5    1114.      137.  1022976.5]\n",
      " [   2008.  8141762.     1098.      135.  1039662. ]\n",
      " [   2009.  8158447.5    1007.5     123.  1056347.5]\n",
      " [   2010.  8175133.     1039.      127.  1073033. ]\n",
      " [   2011.  8272963.     1021.      123.  1170863. ]\n",
      " [   2012.  8348032.     1009.1     121.  1245932. ]\n",
      " [   2013.  8398739.     1006.1     120.  1296639. ]\n",
      " [   2014.  8437387.      996.      118.  1335287. ]\n",
      " [   2015.  8468181.     1009.      119.  1366081. ]\n",
      " [   2016.  8475976.     1002.      118.  1373876. ]\n",
      " [   2017.  8438271.      990.2     117.  1336171. ]\n",
      " [   2018.  8398748.     1007.5     120.  1296648. ]\n",
      " [   2019.  8336817.      987.4     118.  1234717. ]]\n"
     ]
    }
   ],
   "source": [
    "# Add a new column to the Numpy array containing the annual change in the population\n",
    "nyc_water = np.concatenate((nyc_water, np.zeros((nyc_water.shape[0], 1))), axis=1)\n",
    "\n",
    "# Calculate the annual change in the population for each year except for the first year\n",
    "nyc_water[:, 4] = nyc_water[:, 1]-np.roll(nyc_water[:1, 1], -1, axis=0)\n",
    "\n",
    "# Print the Numpy array with the new column\n",
    "print(nyc_water)"
   ]
  },
  {
   "cell_type": "markdown",
   "id": "8a31089e",
   "metadata": {},
   "source": [
    "# Task 5(iii)\n",
    "\n",
    "Calculating the mean"
   ]
  },
  {
   "cell_type": "code",
   "execution_count": 12,
   "id": "676d2846",
   "metadata": {},
   "outputs": [
    {
     "name": "stdout",
     "output_type": "stream",
     "text": [
      "Median: 7947660.0\n"
     ]
    }
   ],
   "source": [
    "\n",
    "med_pol = np.median(nyc_water[:, 1])\n",
    "print(\"Median:\",med_pol)\n"
   ]
  },
  {
   "cell_type": "markdown",
   "id": "c5ebb31e",
   "metadata": {},
   "source": [
    "# Calculating the variance\n",
    "pol means population"
   ]
  },
  {
   "cell_type": "code",
   "execution_count": 5,
   "id": "0281c203",
   "metadata": {},
   "outputs": [
    {
     "name": "stdout",
     "output_type": "stream",
     "text": [
      "Variance is: 214014109798.73172\n"
     ]
    }
   ],
   "source": [
    "import numpy as np\n",
    "var_pol = np.var(nyc_water[:, 1])\n",
    "print(\"Variance is:\",var_pol)"
   ]
  },
  {
   "cell_type": "markdown",
   "id": "73d7bf04",
   "metadata": {},
   "source": [
    "# Task 5(iv)\n",
    "\n",
    "What was the average annual change in the population of the city?"
   ]
  },
  {
   "cell_type": "code",
   "execution_count": 11,
   "id": "3d6c7a61",
   "metadata": {},
   "outputs": [
    {
     "name": "stdout",
     "output_type": "stream",
     "text": [
      "The average is: 705980.5\n"
     ]
    }
   ],
   "source": [
    "Avg_annual_change = np.average(nyc_water[:, 4])\n",
    "print(\"The average is:\", Avg_annual_change)"
   ]
  },
  {
   "cell_type": "code",
   "execution_count": null,
   "id": "21dc0e17",
   "metadata": {},
   "outputs": [],
   "source": []
  }
 ],
 "metadata": {
  "kernelspec": {
   "display_name": "Python 3 (ipykernel)",
   "language": "python",
   "name": "python3"
  },
  "language_info": {
   "codemirror_mode": {
    "name": "ipython",
    "version": 3
   },
   "file_extension": ".py",
   "mimetype": "text/x-python",
   "name": "python",
   "nbconvert_exporter": "python",
   "pygments_lexer": "ipython3",
   "version": "3.11.4"
  }
 },
 "nbformat": 4,
 "nbformat_minor": 5
}
